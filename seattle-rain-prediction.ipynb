{
 "cells": [
  {
   "cell_type": "markdown",
   "id": "2a215c1f",
   "metadata": {
    "papermill": {
     "duration": 0.041009,
     "end_time": "2021-08-18T00:32:37.226622",
     "exception": false,
     "start_time": "2021-08-18T00:32:37.185613",
     "status": "completed"
    },
    "tags": []
   },
   "source": [
    "# Seattle Rain Prediction"
   ]
  },
  {
   "cell_type": "code",
   "execution_count": 1,
   "id": "b2a84a0b",
   "metadata": {
    "_cell_guid": "b1076dfc-b9ad-4769-8c92-a6c4dae69d19",
    "_uuid": "8f2839f25d086af736a60e9eeb907d3b93b6e0e5",
    "execution": {
     "iopub.execute_input": "2021-08-18T00:32:37.321773Z",
     "iopub.status.busy": "2021-08-18T00:32:37.321019Z",
     "iopub.status.idle": "2021-08-18T00:32:39.701106Z",
     "shell.execute_reply": "2021-08-18T00:32:39.700401Z",
     "shell.execute_reply.started": "2021-08-17T22:31:12.202594Z"
    },
    "papermill": {
     "duration": 2.434251,
     "end_time": "2021-08-18T00:32:39.701272",
     "exception": false,
     "start_time": "2021-08-18T00:32:37.267021",
     "status": "completed"
    },
    "tags": []
   },
   "outputs": [],
   "source": [
    "import numpy as np\n",
    "import pandas as pd\n",
    "import matplotlib.pyplot as plt\n",
    "import seaborn as sns\n",
    "from sklearn import preprocessing\n",
    "from sklearn.preprocessing import LabelEncoder\n",
    "from sklearn.preprocessing import StandardScaler\n",
    "from sklearn.model_selection import train_test_split\n",
    "from sklearn.neighbors import LocalOutlierFactor\n",
    "import statsmodels.api as sm\n",
    "from sklearn.linear_model import LinearRegression, Ridge , Lasso , ElasticNet\n",
    "from sklearn.neighbors import KNeighborsRegressor\n",
    "from sklearn.tree import DecisionTreeRegressor\n",
    "from sklearn.svm import LinearSVR, SVR\n",
    "from sklearn.ensemble import RandomForestRegressor, GradientBoostingRegressor\n",
    "from sklearn.model_selection import GridSearchCV , cross_val_score\n",
    "from sklearn.metrics import confusion_matrix , accuracy_score\n",
    "from sklearn.metrics import mean_squared_error"
   ]
  },
  {
   "cell_type": "code",
   "execution_count": 2,
   "id": "efd6d1aa",
   "metadata": {
    "execution": {
     "iopub.execute_input": "2021-08-18T00:32:39.788330Z",
     "iopub.status.busy": "2021-08-18T00:32:39.787557Z",
     "iopub.status.idle": "2021-08-18T00:32:39.842531Z",
     "shell.execute_reply": "2021-08-18T00:32:39.841984Z",
     "shell.execute_reply.started": "2021-08-17T22:31:18.986184Z"
    },
    "papermill": {
     "duration": 0.101029,
     "end_time": "2021-08-18T00:32:39.842703",
     "exception": false,
     "start_time": "2021-08-18T00:32:39.741674",
     "status": "completed"
    },
    "tags": []
   },
   "outputs": [],
   "source": [
    "data=pd.read_csv(\"../input/did-it-rain-in-seattle-19482017/seattleWeather_1948-2017.csv\")"
   ]
  },
  {
   "cell_type": "code",
   "execution_count": 3,
   "id": "6642483b",
   "metadata": {
    "execution": {
     "iopub.execute_input": "2021-08-18T00:32:39.941042Z",
     "iopub.status.busy": "2021-08-18T00:32:39.940157Z",
     "iopub.status.idle": "2021-08-18T00:32:39.962285Z",
     "shell.execute_reply": "2021-08-18T00:32:39.961570Z",
     "shell.execute_reply.started": "2021-08-17T22:31:24.424232Z"
    },
    "papermill": {
     "duration": 0.079591,
     "end_time": "2021-08-18T00:32:39.962435",
     "exception": false,
     "start_time": "2021-08-18T00:32:39.882844",
     "status": "completed"
    },
    "tags": []
   },
   "outputs": [
    {
     "data": {
      "text/html": [
       "<div>\n",
       "<style scoped>\n",
       "    .dataframe tbody tr th:only-of-type {\n",
       "        vertical-align: middle;\n",
       "    }\n",
       "\n",
       "    .dataframe tbody tr th {\n",
       "        vertical-align: top;\n",
       "    }\n",
       "\n",
       "    .dataframe thead th {\n",
       "        text-align: right;\n",
       "    }\n",
       "</style>\n",
       "<table border=\"1\" class=\"dataframe\">\n",
       "  <thead>\n",
       "    <tr style=\"text-align: right;\">\n",
       "      <th></th>\n",
       "      <th>DATE</th>\n",
       "      <th>PRCP</th>\n",
       "      <th>TMAX</th>\n",
       "      <th>TMIN</th>\n",
       "      <th>RAIN</th>\n",
       "    </tr>\n",
       "  </thead>\n",
       "  <tbody>\n",
       "    <tr>\n",
       "      <th>0</th>\n",
       "      <td>1948-01-01</td>\n",
       "      <td>0.47</td>\n",
       "      <td>51</td>\n",
       "      <td>42</td>\n",
       "      <td>True</td>\n",
       "    </tr>\n",
       "    <tr>\n",
       "      <th>1</th>\n",
       "      <td>1948-01-02</td>\n",
       "      <td>0.59</td>\n",
       "      <td>45</td>\n",
       "      <td>36</td>\n",
       "      <td>True</td>\n",
       "    </tr>\n",
       "    <tr>\n",
       "      <th>2</th>\n",
       "      <td>1948-01-03</td>\n",
       "      <td>0.42</td>\n",
       "      <td>45</td>\n",
       "      <td>35</td>\n",
       "      <td>True</td>\n",
       "    </tr>\n",
       "    <tr>\n",
       "      <th>3</th>\n",
       "      <td>1948-01-04</td>\n",
       "      <td>0.31</td>\n",
       "      <td>45</td>\n",
       "      <td>34</td>\n",
       "      <td>True</td>\n",
       "    </tr>\n",
       "    <tr>\n",
       "      <th>4</th>\n",
       "      <td>1948-01-05</td>\n",
       "      <td>0.17</td>\n",
       "      <td>45</td>\n",
       "      <td>32</td>\n",
       "      <td>True</td>\n",
       "    </tr>\n",
       "    <tr>\n",
       "      <th>...</th>\n",
       "      <td>...</td>\n",
       "      <td>...</td>\n",
       "      <td>...</td>\n",
       "      <td>...</td>\n",
       "      <td>...</td>\n",
       "    </tr>\n",
       "    <tr>\n",
       "      <th>25546</th>\n",
       "      <td>2017-12-10</td>\n",
       "      <td>0.00</td>\n",
       "      <td>49</td>\n",
       "      <td>34</td>\n",
       "      <td>False</td>\n",
       "    </tr>\n",
       "    <tr>\n",
       "      <th>25547</th>\n",
       "      <td>2017-12-11</td>\n",
       "      <td>0.00</td>\n",
       "      <td>49</td>\n",
       "      <td>29</td>\n",
       "      <td>False</td>\n",
       "    </tr>\n",
       "    <tr>\n",
       "      <th>25548</th>\n",
       "      <td>2017-12-12</td>\n",
       "      <td>0.00</td>\n",
       "      <td>46</td>\n",
       "      <td>32</td>\n",
       "      <td>False</td>\n",
       "    </tr>\n",
       "    <tr>\n",
       "      <th>25549</th>\n",
       "      <td>2017-12-13</td>\n",
       "      <td>0.00</td>\n",
       "      <td>48</td>\n",
       "      <td>34</td>\n",
       "      <td>False</td>\n",
       "    </tr>\n",
       "    <tr>\n",
       "      <th>25550</th>\n",
       "      <td>2017-12-14</td>\n",
       "      <td>0.00</td>\n",
       "      <td>50</td>\n",
       "      <td>36</td>\n",
       "      <td>False</td>\n",
       "    </tr>\n",
       "  </tbody>\n",
       "</table>\n",
       "<p>25551 rows × 5 columns</p>\n",
       "</div>"
      ],
      "text/plain": [
       "             DATE  PRCP  TMAX  TMIN   RAIN\n",
       "0      1948-01-01  0.47    51    42   True\n",
       "1      1948-01-02  0.59    45    36   True\n",
       "2      1948-01-03  0.42    45    35   True\n",
       "3      1948-01-04  0.31    45    34   True\n",
       "4      1948-01-05  0.17    45    32   True\n",
       "...           ...   ...   ...   ...    ...\n",
       "25546  2017-12-10  0.00    49    34  False\n",
       "25547  2017-12-11  0.00    49    29  False\n",
       "25548  2017-12-12  0.00    46    32  False\n",
       "25549  2017-12-13  0.00    48    34  False\n",
       "25550  2017-12-14  0.00    50    36  False\n",
       "\n",
       "[25551 rows x 5 columns]"
      ]
     },
     "execution_count": 3,
     "metadata": {},
     "output_type": "execute_result"
    }
   ],
   "source": [
    "data"
   ]
  },
  {
   "cell_type": "code",
   "execution_count": 4,
   "id": "d27dc396",
   "metadata": {
    "execution": {
     "iopub.execute_input": "2021-08-18T00:32:40.058570Z",
     "iopub.status.busy": "2021-08-18T00:32:40.057521Z",
     "iopub.status.idle": "2021-08-18T00:32:40.077878Z",
     "shell.execute_reply": "2021-08-18T00:32:40.077072Z",
     "shell.execute_reply.started": "2021-08-17T22:31:31.904786Z"
    },
    "papermill": {
     "duration": 0.072263,
     "end_time": "2021-08-18T00:32:40.078068",
     "exception": false,
     "start_time": "2021-08-18T00:32:40.005805",
     "status": "completed"
    },
    "tags": []
   },
   "outputs": [
    {
     "name": "stdout",
     "output_type": "stream",
     "text": [
      "<class 'pandas.core.frame.DataFrame'>\n",
      "RangeIndex: 25551 entries, 0 to 25550\n",
      "Data columns (total 5 columns):\n",
      " #   Column  Non-Null Count  Dtype  \n",
      "---  ------  --------------  -----  \n",
      " 0   DATE    25551 non-null  object \n",
      " 1   PRCP    25548 non-null  float64\n",
      " 2   TMAX    25551 non-null  int64  \n",
      " 3   TMIN    25551 non-null  int64  \n",
      " 4   RAIN    25548 non-null  object \n",
      "dtypes: float64(1), int64(2), object(2)\n",
      "memory usage: 998.2+ KB\n"
     ]
    }
   ],
   "source": [
    "data.info()"
   ]
  },
  {
   "cell_type": "code",
   "execution_count": 5,
   "id": "3bf24c22",
   "metadata": {
    "execution": {
     "iopub.execute_input": "2021-08-18T00:32:40.181809Z",
     "iopub.status.busy": "2021-08-18T00:32:40.176977Z",
     "iopub.status.idle": "2021-08-18T00:32:40.185869Z",
     "shell.execute_reply": "2021-08-18T00:32:40.185345Z",
     "shell.execute_reply.started": "2021-08-17T22:34:14.630927Z"
    },
    "papermill": {
     "duration": 0.065855,
     "end_time": "2021-08-18T00:32:40.186013",
     "exception": false,
     "start_time": "2021-08-18T00:32:40.120158",
     "status": "completed"
    },
    "tags": []
   },
   "outputs": [
    {
     "data": {
      "text/html": [
       "<div>\n",
       "<style scoped>\n",
       "    .dataframe tbody tr th:only-of-type {\n",
       "        vertical-align: middle;\n",
       "    }\n",
       "\n",
       "    .dataframe tbody tr th {\n",
       "        vertical-align: top;\n",
       "    }\n",
       "\n",
       "    .dataframe thead th {\n",
       "        text-align: right;\n",
       "    }\n",
       "</style>\n",
       "<table border=\"1\" class=\"dataframe\">\n",
       "  <thead>\n",
       "    <tr style=\"text-align: right;\">\n",
       "      <th></th>\n",
       "      <th>DATE</th>\n",
       "      <th>PRCP</th>\n",
       "      <th>TMAX</th>\n",
       "      <th>TMIN</th>\n",
       "      <th>RAIN</th>\n",
       "    </tr>\n",
       "  </thead>\n",
       "  <tbody>\n",
       "    <tr>\n",
       "      <th>0</th>\n",
       "      <td>False</td>\n",
       "      <td>False</td>\n",
       "      <td>False</td>\n",
       "      <td>False</td>\n",
       "      <td>False</td>\n",
       "    </tr>\n",
       "    <tr>\n",
       "      <th>1</th>\n",
       "      <td>False</td>\n",
       "      <td>False</td>\n",
       "      <td>False</td>\n",
       "      <td>False</td>\n",
       "      <td>False</td>\n",
       "    </tr>\n",
       "    <tr>\n",
       "      <th>2</th>\n",
       "      <td>False</td>\n",
       "      <td>False</td>\n",
       "      <td>False</td>\n",
       "      <td>False</td>\n",
       "      <td>False</td>\n",
       "    </tr>\n",
       "    <tr>\n",
       "      <th>3</th>\n",
       "      <td>False</td>\n",
       "      <td>False</td>\n",
       "      <td>False</td>\n",
       "      <td>False</td>\n",
       "      <td>False</td>\n",
       "    </tr>\n",
       "    <tr>\n",
       "      <th>4</th>\n",
       "      <td>False</td>\n",
       "      <td>False</td>\n",
       "      <td>False</td>\n",
       "      <td>False</td>\n",
       "      <td>False</td>\n",
       "    </tr>\n",
       "    <tr>\n",
       "      <th>...</th>\n",
       "      <td>...</td>\n",
       "      <td>...</td>\n",
       "      <td>...</td>\n",
       "      <td>...</td>\n",
       "      <td>...</td>\n",
       "    </tr>\n",
       "    <tr>\n",
       "      <th>25546</th>\n",
       "      <td>False</td>\n",
       "      <td>False</td>\n",
       "      <td>False</td>\n",
       "      <td>False</td>\n",
       "      <td>False</td>\n",
       "    </tr>\n",
       "    <tr>\n",
       "      <th>25547</th>\n",
       "      <td>False</td>\n",
       "      <td>False</td>\n",
       "      <td>False</td>\n",
       "      <td>False</td>\n",
       "      <td>False</td>\n",
       "    </tr>\n",
       "    <tr>\n",
       "      <th>25548</th>\n",
       "      <td>False</td>\n",
       "      <td>False</td>\n",
       "      <td>False</td>\n",
       "      <td>False</td>\n",
       "      <td>False</td>\n",
       "    </tr>\n",
       "    <tr>\n",
       "      <th>25549</th>\n",
       "      <td>False</td>\n",
       "      <td>False</td>\n",
       "      <td>False</td>\n",
       "      <td>False</td>\n",
       "      <td>False</td>\n",
       "    </tr>\n",
       "    <tr>\n",
       "      <th>25550</th>\n",
       "      <td>False</td>\n",
       "      <td>False</td>\n",
       "      <td>False</td>\n",
       "      <td>False</td>\n",
       "      <td>False</td>\n",
       "    </tr>\n",
       "  </tbody>\n",
       "</table>\n",
       "<p>25551 rows × 5 columns</p>\n",
       "</div>"
      ],
      "text/plain": [
       "        DATE   PRCP   TMAX   TMIN   RAIN\n",
       "0      False  False  False  False  False\n",
       "1      False  False  False  False  False\n",
       "2      False  False  False  False  False\n",
       "3      False  False  False  False  False\n",
       "4      False  False  False  False  False\n",
       "...      ...    ...    ...    ...    ...\n",
       "25546  False  False  False  False  False\n",
       "25547  False  False  False  False  False\n",
       "25548  False  False  False  False  False\n",
       "25549  False  False  False  False  False\n",
       "25550  False  False  False  False  False\n",
       "\n",
       "[25551 rows x 5 columns]"
      ]
     },
     "execution_count": 5,
     "metadata": {},
     "output_type": "execute_result"
    }
   ],
   "source": [
    "data.isnull()"
   ]
  },
  {
   "cell_type": "code",
   "execution_count": 6,
   "id": "1db5a661",
   "metadata": {
    "execution": {
     "iopub.execute_input": "2021-08-18T00:32:40.280670Z",
     "iopub.status.busy": "2021-08-18T00:32:40.279951Z",
     "iopub.status.idle": "2021-08-18T00:32:40.285717Z",
     "shell.execute_reply": "2021-08-18T00:32:40.286253Z",
     "shell.execute_reply.started": "2021-08-17T22:34:25.125897Z"
    },
    "papermill": {
     "duration": 0.058557,
     "end_time": "2021-08-18T00:32:40.286421",
     "exception": false,
     "start_time": "2021-08-18T00:32:40.227864",
     "status": "completed"
    },
    "tags": []
   },
   "outputs": [
    {
     "data": {
      "text/plain": [
       "DATE    0\n",
       "PRCP    3\n",
       "TMAX    0\n",
       "TMIN    0\n",
       "RAIN    3\n",
       "dtype: int64"
      ]
     },
     "execution_count": 6,
     "metadata": {},
     "output_type": "execute_result"
    }
   ],
   "source": [
    "data.isnull().sum()"
   ]
  },
  {
   "cell_type": "code",
   "execution_count": 7,
   "id": "d1909235",
   "metadata": {
    "execution": {
     "iopub.execute_input": "2021-08-18T00:32:40.375222Z",
     "iopub.status.busy": "2021-08-18T00:32:40.374461Z",
     "iopub.status.idle": "2021-08-18T00:32:40.406823Z",
     "shell.execute_reply": "2021-08-18T00:32:40.407381Z",
     "shell.execute_reply.started": "2021-08-17T22:34:33.795759Z"
    },
    "papermill": {
     "duration": 0.078655,
     "end_time": "2021-08-18T00:32:40.407557",
     "exception": false,
     "start_time": "2021-08-18T00:32:40.328902",
     "status": "completed"
    },
    "tags": []
   },
   "outputs": [],
   "source": [
    "dt=data.dropna()"
   ]
  },
  {
   "cell_type": "code",
   "execution_count": 8,
   "id": "b32a4fca",
   "metadata": {
    "execution": {
     "iopub.execute_input": "2021-08-18T00:32:40.496231Z",
     "iopub.status.busy": "2021-08-18T00:32:40.495610Z",
     "iopub.status.idle": "2021-08-18T00:32:40.509634Z",
     "shell.execute_reply": "2021-08-18T00:32:40.509069Z",
     "shell.execute_reply.started": "2021-08-17T22:34:40.416843Z"
    },
    "papermill": {
     "duration": 0.058773,
     "end_time": "2021-08-18T00:32:40.509790",
     "exception": false,
     "start_time": "2021-08-18T00:32:40.451017",
     "status": "completed"
    },
    "tags": []
   },
   "outputs": [
    {
     "data": {
      "text/plain": [
       "DATE    0\n",
       "PRCP    0\n",
       "TMAX    0\n",
       "TMIN    0\n",
       "RAIN    0\n",
       "dtype: int64"
      ]
     },
     "execution_count": 8,
     "metadata": {},
     "output_type": "execute_result"
    }
   ],
   "source": [
    "dt.isnull().sum()"
   ]
  },
  {
   "cell_type": "code",
   "execution_count": 9,
   "id": "2e2ce086",
   "metadata": {
    "execution": {
     "iopub.execute_input": "2021-08-18T00:32:40.598761Z",
     "iopub.status.busy": "2021-08-18T00:32:40.598106Z",
     "iopub.status.idle": "2021-08-18T00:32:40.602369Z",
     "shell.execute_reply": "2021-08-18T00:32:40.601564Z",
     "shell.execute_reply.started": "2021-08-17T22:34:53.679126Z"
    },
    "papermill": {
     "duration": 0.049536,
     "end_time": "2021-08-18T00:32:40.602520",
     "exception": false,
     "start_time": "2021-08-18T00:32:40.552984",
     "status": "completed"
    },
    "tags": []
   },
   "outputs": [],
   "source": [
    "le = LabelEncoder() "
   ]
  },
  {
   "cell_type": "code",
   "execution_count": 10,
   "id": "42dea86c",
   "metadata": {
    "execution": {
     "iopub.execute_input": "2021-08-18T00:32:40.715437Z",
     "iopub.status.busy": "2021-08-18T00:32:40.702489Z",
     "iopub.status.idle": "2021-08-18T00:32:40.722167Z",
     "shell.execute_reply": "2021-08-18T00:32:40.721113Z",
     "shell.execute_reply.started": "2021-08-17T22:35:06.92113Z"
    },
    "papermill": {
     "duration": 0.077477,
     "end_time": "2021-08-18T00:32:40.722362",
     "exception": false,
     "start_time": "2021-08-18T00:32:40.644885",
     "status": "completed"
    },
    "tags": []
   },
   "outputs": [
    {
     "name": "stderr",
     "output_type": "stream",
     "text": [
      "/opt/conda/lib/python3.7/site-packages/ipykernel_launcher.py:1: SettingWithCopyWarning: \n",
      "A value is trying to be set on a copy of a slice from a DataFrame.\n",
      "Try using .loc[row_indexer,col_indexer] = value instead\n",
      "\n",
      "See the caveats in the documentation: https://pandas.pydata.org/pandas-docs/stable/user_guide/indexing.html#returning-a-view-versus-a-copy\n",
      "  \"\"\"Entry point for launching an IPython kernel.\n"
     ]
    },
    {
     "data": {
      "text/html": [
       "<div>\n",
       "<style scoped>\n",
       "    .dataframe tbody tr th:only-of-type {\n",
       "        vertical-align: middle;\n",
       "    }\n",
       "\n",
       "    .dataframe tbody tr th {\n",
       "        vertical-align: top;\n",
       "    }\n",
       "\n",
       "    .dataframe thead th {\n",
       "        text-align: right;\n",
       "    }\n",
       "</style>\n",
       "<table border=\"1\" class=\"dataframe\">\n",
       "  <thead>\n",
       "    <tr style=\"text-align: right;\">\n",
       "      <th></th>\n",
       "      <th>DATE</th>\n",
       "      <th>PRCP</th>\n",
       "      <th>TMAX</th>\n",
       "      <th>TMIN</th>\n",
       "      <th>RAIN</th>\n",
       "    </tr>\n",
       "  </thead>\n",
       "  <tbody>\n",
       "    <tr>\n",
       "      <th>0</th>\n",
       "      <td>1948-01-01</td>\n",
       "      <td>0.47</td>\n",
       "      <td>51</td>\n",
       "      <td>42</td>\n",
       "      <td>1</td>\n",
       "    </tr>\n",
       "    <tr>\n",
       "      <th>1</th>\n",
       "      <td>1948-01-02</td>\n",
       "      <td>0.59</td>\n",
       "      <td>45</td>\n",
       "      <td>36</td>\n",
       "      <td>1</td>\n",
       "    </tr>\n",
       "    <tr>\n",
       "      <th>2</th>\n",
       "      <td>1948-01-03</td>\n",
       "      <td>0.42</td>\n",
       "      <td>45</td>\n",
       "      <td>35</td>\n",
       "      <td>1</td>\n",
       "    </tr>\n",
       "    <tr>\n",
       "      <th>3</th>\n",
       "      <td>1948-01-04</td>\n",
       "      <td>0.31</td>\n",
       "      <td>45</td>\n",
       "      <td>34</td>\n",
       "      <td>1</td>\n",
       "    </tr>\n",
       "    <tr>\n",
       "      <th>4</th>\n",
       "      <td>1948-01-05</td>\n",
       "      <td>0.17</td>\n",
       "      <td>45</td>\n",
       "      <td>32</td>\n",
       "      <td>1</td>\n",
       "    </tr>\n",
       "    <tr>\n",
       "      <th>...</th>\n",
       "      <td>...</td>\n",
       "      <td>...</td>\n",
       "      <td>...</td>\n",
       "      <td>...</td>\n",
       "      <td>...</td>\n",
       "    </tr>\n",
       "    <tr>\n",
       "      <th>25546</th>\n",
       "      <td>2017-12-10</td>\n",
       "      <td>0.00</td>\n",
       "      <td>49</td>\n",
       "      <td>34</td>\n",
       "      <td>0</td>\n",
       "    </tr>\n",
       "    <tr>\n",
       "      <th>25547</th>\n",
       "      <td>2017-12-11</td>\n",
       "      <td>0.00</td>\n",
       "      <td>49</td>\n",
       "      <td>29</td>\n",
       "      <td>0</td>\n",
       "    </tr>\n",
       "    <tr>\n",
       "      <th>25548</th>\n",
       "      <td>2017-12-12</td>\n",
       "      <td>0.00</td>\n",
       "      <td>46</td>\n",
       "      <td>32</td>\n",
       "      <td>0</td>\n",
       "    </tr>\n",
       "    <tr>\n",
       "      <th>25549</th>\n",
       "      <td>2017-12-13</td>\n",
       "      <td>0.00</td>\n",
       "      <td>48</td>\n",
       "      <td>34</td>\n",
       "      <td>0</td>\n",
       "    </tr>\n",
       "    <tr>\n",
       "      <th>25550</th>\n",
       "      <td>2017-12-14</td>\n",
       "      <td>0.00</td>\n",
       "      <td>50</td>\n",
       "      <td>36</td>\n",
       "      <td>0</td>\n",
       "    </tr>\n",
       "  </tbody>\n",
       "</table>\n",
       "<p>25548 rows × 5 columns</p>\n",
       "</div>"
      ],
      "text/plain": [
       "             DATE  PRCP  TMAX  TMIN  RAIN\n",
       "0      1948-01-01  0.47    51    42     1\n",
       "1      1948-01-02  0.59    45    36     1\n",
       "2      1948-01-03  0.42    45    35     1\n",
       "3      1948-01-04  0.31    45    34     1\n",
       "4      1948-01-05  0.17    45    32     1\n",
       "...           ...   ...   ...   ...   ...\n",
       "25546  2017-12-10  0.00    49    34     0\n",
       "25547  2017-12-11  0.00    49    29     0\n",
       "25548  2017-12-12  0.00    46    32     0\n",
       "25549  2017-12-13  0.00    48    34     0\n",
       "25550  2017-12-14  0.00    50    36     0\n",
       "\n",
       "[25548 rows x 5 columns]"
      ]
     },
     "execution_count": 10,
     "metadata": {},
     "output_type": "execute_result"
    }
   ],
   "source": [
    "dt[\"RAIN\"] = le.fit_transform(dt[\"RAIN\"])\n",
    "dt"
   ]
  },
  {
   "cell_type": "code",
   "execution_count": 11,
   "id": "28b194ff",
   "metadata": {
    "execution": {
     "iopub.execute_input": "2021-08-18T00:32:40.823448Z",
     "iopub.status.busy": "2021-08-18T00:32:40.822762Z",
     "iopub.status.idle": "2021-08-18T00:32:40.837466Z",
     "shell.execute_reply": "2021-08-18T00:32:40.836572Z",
     "shell.execute_reply.started": "2021-08-17T22:35:26.761025Z"
    },
    "papermill": {
     "duration": 0.071358,
     "end_time": "2021-08-18T00:32:40.837673",
     "exception": false,
     "start_time": "2021-08-18T00:32:40.766315",
     "status": "completed"
    },
    "tags": []
   },
   "outputs": [
    {
     "name": "stdout",
     "output_type": "stream",
     "text": [
      "PRCP ortalama 0.10622162204477847\n",
      "PRCP Standart Sapma 0.23902678090011983\n",
      "PRCP ust_limit 0.823301964745138\n",
      "PRCP alt_limit -0.610858720655581\n",
      "TMAX ortalama 59.54305620792234\n",
      "TMAX Standart Sapma 12.773014512043819\n",
      "TMAX ust_limit 97.86209974405381\n",
      "TMAX alt_limit 21.22401267179088\n",
      "TMIN ortalama 44.513386566463126\n",
      "TMIN Standart Sapma 8.892844563416434\n",
      "TMIN ust_limit 71.19192025671242\n",
      "TMIN alt_limit 17.834852876213823\n"
     ]
    }
   ],
   "source": [
    "ftr=pd.DataFrame(list(dt.columns)).drop([0, 4] ).rename(columns={0: 'ozntlk'} , index={1: 0 , 2:1 , 3:2})\n",
    "a=[0,1,2]\n",
    "b=[\"ortalama\" , \"Standart Sapma\"]\n",
    "c=[\"ust_limit\" , \"alt_limit\"]\n",
    "for i in a:\n",
    "    print(str(ftr.iat[i,0]), b[0] , np.array(dt[ftr.iat[i,0]]).mean())\n",
    "    print(str(ftr.iat[i,0]) , b[1] ,np.array(dt[ftr.iat[i,0]]).std())\n",
    "    print(str(ftr.iat[i,0]), c[0] , np.array(dt[ftr.iat[i,0]]).mean() + 3*np.array(dt[ftr.iat[i,0]]).std())\n",
    "    print(str(ftr.iat[i,0]), c[1] , np.array(dt[ftr.iat[i,0]]).mean() - 3*np.array(dt[ftr.iat[i,0]]).std())"
   ]
  },
  {
   "cell_type": "code",
   "execution_count": 12,
   "id": "db1460f8",
   "metadata": {
    "execution": {
     "iopub.execute_input": "2021-08-18T00:32:40.929526Z",
     "iopub.status.busy": "2021-08-18T00:32:40.928838Z",
     "iopub.status.idle": "2021-08-18T00:32:40.988403Z",
     "shell.execute_reply": "2021-08-18T00:32:40.987831Z",
     "shell.execute_reply.started": "2021-08-17T22:35:50.626355Z"
    },
    "papermill": {
     "duration": 0.10629,
     "end_time": "2021-08-18T00:32:40.988542",
     "exception": false,
     "start_time": "2021-08-18T00:32:40.882252",
     "status": "completed"
    },
    "tags": []
   },
   "outputs": [
    {
     "data": {
      "text/html": [
       "<div>\n",
       "<style scoped>\n",
       "    .dataframe tbody tr th:only-of-type {\n",
       "        vertical-align: middle;\n",
       "    }\n",
       "\n",
       "    .dataframe tbody tr th {\n",
       "        vertical-align: top;\n",
       "    }\n",
       "\n",
       "    .dataframe thead th {\n",
       "        text-align: right;\n",
       "    }\n",
       "</style>\n",
       "<table border=\"1\" class=\"dataframe\">\n",
       "  <thead>\n",
       "    <tr style=\"text-align: right;\">\n",
       "      <th></th>\n",
       "      <th>count</th>\n",
       "      <th>mean</th>\n",
       "      <th>std</th>\n",
       "      <th>min</th>\n",
       "      <th>25%</th>\n",
       "      <th>50%</th>\n",
       "      <th>75%</th>\n",
       "      <th>max</th>\n",
       "      <th>variance</th>\n",
       "      <th>skewness</th>\n",
       "      <th>kurtosis</th>\n",
       "    </tr>\n",
       "  </thead>\n",
       "  <tbody>\n",
       "    <tr>\n",
       "      <th>PRCP</th>\n",
       "      <td>25548.0</td>\n",
       "      <td>0.106222</td>\n",
       "      <td>0.239031</td>\n",
       "      <td>0.0</td>\n",
       "      <td>0.0</td>\n",
       "      <td>0.0</td>\n",
       "      <td>0.1</td>\n",
       "      <td>5.02</td>\n",
       "      <td>0.057136</td>\n",
       "      <td>4.416097</td>\n",
       "      <td>32.990118</td>\n",
       "    </tr>\n",
       "    <tr>\n",
       "      <th>TMAX</th>\n",
       "      <td>25548.0</td>\n",
       "      <td>59.543056</td>\n",
       "      <td>12.773265</td>\n",
       "      <td>4.0</td>\n",
       "      <td>50.0</td>\n",
       "      <td>58.0</td>\n",
       "      <td>69.0</td>\n",
       "      <td>103.00</td>\n",
       "      <td>163.156286</td>\n",
       "      <td>0.249230</td>\n",
       "      <td>-0.442026</td>\n",
       "    </tr>\n",
       "    <tr>\n",
       "      <th>TMIN</th>\n",
       "      <td>25548.0</td>\n",
       "      <td>44.513387</td>\n",
       "      <td>8.893019</td>\n",
       "      <td>0.0</td>\n",
       "      <td>38.0</td>\n",
       "      <td>45.0</td>\n",
       "      <td>52.0</td>\n",
       "      <td>71.00</td>\n",
       "      <td>79.085780</td>\n",
       "      <td>-0.340349</td>\n",
       "      <td>-0.088382</td>\n",
       "    </tr>\n",
       "    <tr>\n",
       "      <th>RAIN</th>\n",
       "      <td>25548.0</td>\n",
       "      <td>0.426648</td>\n",
       "      <td>0.494600</td>\n",
       "      <td>0.0</td>\n",
       "      <td>0.0</td>\n",
       "      <td>0.0</td>\n",
       "      <td>1.0</td>\n",
       "      <td>1.00</td>\n",
       "      <td>0.244629</td>\n",
       "      <td>0.296635</td>\n",
       "      <td>-1.912157</td>\n",
       "    </tr>\n",
       "  </tbody>\n",
       "</table>\n",
       "</div>"
      ],
      "text/plain": [
       "        count       mean        std  min   25%   50%   75%     max  \\\n",
       "PRCP  25548.0   0.106222   0.239031  0.0   0.0   0.0   0.1    5.02   \n",
       "TMAX  25548.0  59.543056  12.773265  4.0  50.0  58.0  69.0  103.00   \n",
       "TMIN  25548.0  44.513387   8.893019  0.0  38.0  45.0  52.0   71.00   \n",
       "RAIN  25548.0   0.426648   0.494600  0.0   0.0   0.0   1.0    1.00   \n",
       "\n",
       "        variance  skewness   kurtosis  \n",
       "PRCP    0.057136  4.416097  32.990118  \n",
       "TMAX  163.156286  0.249230  -0.442026  \n",
       "TMIN   79.085780 -0.340349  -0.088382  \n",
       "RAIN    0.244629  0.296635  -1.912157  "
      ]
     },
     "execution_count": 12,
     "metadata": {},
     "output_type": "execute_result"
    }
   ],
   "source": [
    "dscs = dt.describe().T\n",
    "variances=pd.DataFrame(dt.var()).rename(columns={0: \"variance\"})\n",
    "skewness=pd.DataFrame(dt.skew()).rename(columns={0: \"skewness\"})\n",
    "kurtosiss=pd.DataFrame(dt.kurtosis()).rename(columns={0: \"kurtosis\"})\n",
    "descriptive_statistics=pd.concat([dscs,variances,skewness,kurtosiss], axis=1)\n",
    "descriptive_statistics"
   ]
  },
  {
   "cell_type": "code",
   "execution_count": 13,
   "id": "7a0873aa",
   "metadata": {
    "execution": {
     "iopub.execute_input": "2021-08-18T00:32:41.083254Z",
     "iopub.status.busy": "2021-08-18T00:32:41.082574Z",
     "iopub.status.idle": "2021-08-18T00:32:41.098076Z",
     "shell.execute_reply": "2021-08-18T00:32:41.097339Z",
     "shell.execute_reply.started": "2021-08-17T22:36:08.66977Z"
    },
    "papermill": {
     "duration": 0.064333,
     "end_time": "2021-08-18T00:32:41.098225",
     "exception": false,
     "start_time": "2021-08-18T00:32:41.033892",
     "status": "completed"
    },
    "tags": []
   },
   "outputs": [
    {
     "data": {
      "text/html": [
       "<div>\n",
       "<style scoped>\n",
       "    .dataframe tbody tr th:only-of-type {\n",
       "        vertical-align: middle;\n",
       "    }\n",
       "\n",
       "    .dataframe tbody tr th {\n",
       "        vertical-align: top;\n",
       "    }\n",
       "\n",
       "    .dataframe thead th {\n",
       "        text-align: right;\n",
       "    }\n",
       "</style>\n",
       "<table border=\"1\" class=\"dataframe\">\n",
       "  <thead>\n",
       "    <tr style=\"text-align: right;\">\n",
       "      <th></th>\n",
       "      <th>PRCP</th>\n",
       "      <th>TMAX</th>\n",
       "      <th>TMIN</th>\n",
       "      <th>RAIN</th>\n",
       "    </tr>\n",
       "  </thead>\n",
       "  <tbody>\n",
       "    <tr>\n",
       "      <th>PRCP</th>\n",
       "      <td>0.057136</td>\n",
       "      <td>-0.692273</td>\n",
       "      <td>-0.136822</td>\n",
       "      <td>0.060905</td>\n",
       "    </tr>\n",
       "    <tr>\n",
       "      <th>TMAX</th>\n",
       "      <td>-0.692273</td>\n",
       "      <td>163.156286</td>\n",
       "      <td>97.766559</td>\n",
       "      <td>-2.459088</td>\n",
       "    </tr>\n",
       "    <tr>\n",
       "      <th>TMIN</th>\n",
       "      <td>-0.136822</td>\n",
       "      <td>97.766559</td>\n",
       "      <td>79.085780</td>\n",
       "      <td>-0.615372</td>\n",
       "    </tr>\n",
       "    <tr>\n",
       "      <th>RAIN</th>\n",
       "      <td>0.060905</td>\n",
       "      <td>-2.459088</td>\n",
       "      <td>-0.615372</td>\n",
       "      <td>0.244629</td>\n",
       "    </tr>\n",
       "  </tbody>\n",
       "</table>\n",
       "</div>"
      ],
      "text/plain": [
       "          PRCP        TMAX       TMIN      RAIN\n",
       "PRCP  0.057136   -0.692273  -0.136822  0.060905\n",
       "TMAX -0.692273  163.156286  97.766559 -2.459088\n",
       "TMIN -0.136822   97.766559  79.085780 -0.615372\n",
       "RAIN  0.060905   -2.459088  -0.615372  0.244629"
      ]
     },
     "execution_count": 13,
     "metadata": {},
     "output_type": "execute_result"
    }
   ],
   "source": [
    "dt.cov()"
   ]
  },
  {
   "cell_type": "code",
   "execution_count": 14,
   "id": "f8f340d0",
   "metadata": {
    "execution": {
     "iopub.execute_input": "2021-08-18T00:32:41.191397Z",
     "iopub.status.busy": "2021-08-18T00:32:41.190719Z",
     "iopub.status.idle": "2021-08-18T00:32:41.205174Z",
     "shell.execute_reply": "2021-08-18T00:32:41.205672Z",
     "shell.execute_reply.started": "2021-08-17T22:36:42.367222Z"
    },
    "papermill": {
     "duration": 0.062367,
     "end_time": "2021-08-18T00:32:41.205861",
     "exception": false,
     "start_time": "2021-08-18T00:32:41.143494",
     "status": "completed"
    },
    "tags": []
   },
   "outputs": [
    {
     "data": {
      "text/html": [
       "<div>\n",
       "<style scoped>\n",
       "    .dataframe tbody tr th:only-of-type {\n",
       "        vertical-align: middle;\n",
       "    }\n",
       "\n",
       "    .dataframe tbody tr th {\n",
       "        vertical-align: top;\n",
       "    }\n",
       "\n",
       "    .dataframe thead th {\n",
       "        text-align: right;\n",
       "    }\n",
       "</style>\n",
       "<table border=\"1\" class=\"dataframe\">\n",
       "  <thead>\n",
       "    <tr style=\"text-align: right;\">\n",
       "      <th></th>\n",
       "      <th>PRCP</th>\n",
       "      <th>TMAX</th>\n",
       "      <th>TMIN</th>\n",
       "      <th>RAIN</th>\n",
       "    </tr>\n",
       "  </thead>\n",
       "  <tbody>\n",
       "    <tr>\n",
       "      <th>PRCP</th>\n",
       "      <td>1.000000</td>\n",
       "      <td>-0.226736</td>\n",
       "      <td>-0.064365</td>\n",
       "      <td>0.515160</td>\n",
       "    </tr>\n",
       "    <tr>\n",
       "      <th>TMAX</th>\n",
       "      <td>-0.226736</td>\n",
       "      <td>1.000000</td>\n",
       "      <td>0.860675</td>\n",
       "      <td>-0.389241</td>\n",
       "    </tr>\n",
       "    <tr>\n",
       "      <th>TMIN</th>\n",
       "      <td>-0.064365</td>\n",
       "      <td>0.860675</td>\n",
       "      <td>1.000000</td>\n",
       "      <td>-0.139905</td>\n",
       "    </tr>\n",
       "    <tr>\n",
       "      <th>RAIN</th>\n",
       "      <td>0.515160</td>\n",
       "      <td>-0.389241</td>\n",
       "      <td>-0.139905</td>\n",
       "      <td>1.000000</td>\n",
       "    </tr>\n",
       "  </tbody>\n",
       "</table>\n",
       "</div>"
      ],
      "text/plain": [
       "          PRCP      TMAX      TMIN      RAIN\n",
       "PRCP  1.000000 -0.226736 -0.064365  0.515160\n",
       "TMAX -0.226736  1.000000  0.860675 -0.389241\n",
       "TMIN -0.064365  0.860675  1.000000 -0.139905\n",
       "RAIN  0.515160 -0.389241 -0.139905  1.000000"
      ]
     },
     "execution_count": 14,
     "metadata": {},
     "output_type": "execute_result"
    }
   ],
   "source": [
    "dt.corr()"
   ]
  },
  {
   "cell_type": "code",
   "execution_count": 15,
   "id": "4889dc63",
   "metadata": {
    "execution": {
     "iopub.execute_input": "2021-08-18T00:32:41.299414Z",
     "iopub.status.busy": "2021-08-18T00:32:41.298684Z",
     "iopub.status.idle": "2021-08-18T00:32:41.611498Z",
     "shell.execute_reply": "2021-08-18T00:32:41.610956Z",
     "shell.execute_reply.started": "2021-08-17T22:37:11.669886Z"
    },
    "papermill": {
     "duration": 0.360674,
     "end_time": "2021-08-18T00:32:41.611664",
     "exception": false,
     "start_time": "2021-08-18T00:32:41.250990",
     "status": "completed"
    },
    "tags": []
   },
   "outputs": [
    {
     "data": {
      "image/png": "[encoded data removed]",
      "text/plain": [
       "<Figure size 576x576 with 2 Axes>"
      ]
     },
     "metadata": {
      "needs_background": "light"
     },
     "output_type": "display_data"
    }
   ],
   "source": [
    "plt.figure(figsize=(8,8))\n",
    "sns.heatmap(dt.corr() , annot=True , cmap=\"coolwarm\");"
   ]
  },
  {
   "cell_type": "code",
   "execution_count": 16,
   "id": "6c7c001d",
   "metadata": {
    "execution": {
     "iopub.execute_input": "2021-08-18T00:32:41.710698Z",
     "iopub.status.busy": "2021-08-18T00:32:41.709943Z",
     "iopub.status.idle": "2021-08-18T00:32:42.137836Z",
     "shell.execute_reply": "2021-08-18T00:32:42.137148Z",
     "shell.execute_reply.started": "2021-08-17T22:37:28.73329Z"
    },
    "papermill": {
     "duration": 0.479242,
     "end_time": "2021-08-18T00:32:42.137992",
     "exception": false,
     "start_time": "2021-08-18T00:32:41.658750",
     "status": "completed"
    },
    "tags": []
   },
   "outputs": [
    {
     "data": {
      "text/plain": [
       "<seaborn.axisgrid.FacetGrid at 0x7f18e25df550>"
      ]
     },
     "execution_count": 16,
     "metadata": {},
     "output_type": "execute_result"
    },
    {
     "data": {
      "image/png": "[encoded data removed]",
      "text/plain": [
       "<Figure size 360x360 with 1 Axes>"
      ]
     },
     "metadata": {
      "needs_background": "light"
     },
     "output_type": "display_data"
    }
   ],
   "source": [
    "sns.displot(x=\"TMIN\" , data=dt )"
   ]
  },
  {
   "cell_type": "code",
   "execution_count": 17,
   "id": "fc6b6545",
   "metadata": {
    "execution": {
     "iopub.execute_input": "2021-08-18T00:32:42.241263Z",
     "iopub.status.busy": "2021-08-18T00:32:42.240538Z",
     "iopub.status.idle": "2021-08-18T00:32:42.662325Z",
     "shell.execute_reply": "2021-08-18T00:32:42.661674Z",
     "shell.execute_reply.started": "2021-08-17T22:37:42.079399Z"
    },
    "papermill": {
     "duration": 0.477537,
     "end_time": "2021-08-18T00:32:42.662472",
     "exception": false,
     "start_time": "2021-08-18T00:32:42.184935",
     "status": "completed"
    },
    "tags": []
   },
   "outputs": [
    {
     "data": {
      "text/plain": [
       "<seaborn.axisgrid.FacetGrid at 0x7f18dbfa4f10>"
      ]
     },
     "execution_count": 17,
     "metadata": {},
     "output_type": "execute_result"
    },
    {
     "data": {
      "image/png": "[encoded data removed]",
      "text/plain": [
       "<Figure size 360x360 with 1 Axes>"
      ]
     },
     "metadata": {
      "needs_background": "light"
     },
     "output_type": "display_data"
    }
   ],
   "source": [
    "sns.displot(x=\"TMAX\" , data=dt )"
   ]
  },
  {
   "cell_type": "code",
   "execution_count": 18,
   "id": "8078baa2",
   "metadata": {
    "execution": {
     "iopub.execute_input": "2021-08-18T00:32:42.782072Z",
     "iopub.status.busy": "2021-08-18T00:32:42.764141Z",
     "iopub.status.idle": "2021-08-18T00:32:42.901631Z",
     "shell.execute_reply": "2021-08-18T00:32:42.900736Z",
     "shell.execute_reply.started": "2021-08-17T22:37:56.32541Z"
    },
    "papermill": {
     "duration": 0.190674,
     "end_time": "2021-08-18T00:32:42.901806",
     "exception": false,
     "start_time": "2021-08-18T00:32:42.711132",
     "status": "completed"
    },
    "tags": []
   },
   "outputs": [
    {
     "data": {
      "text/plain": [
       "<AxesSubplot:xlabel='TMIN'>"
      ]
     },
     "execution_count": 18,
     "metadata": {},
     "output_type": "execute_result"
    },
    {
     "data": {
      "image/png": "[encoded data removed]",
      "text/plain": [
       "<Figure size 432x288 with 1 Axes>"
      ]
     },
     "metadata": {
      "needs_background": "light"
     },
     "output_type": "display_data"
    }
   ],
   "source": [
    "sns.boxplot(x=dt.TMIN)"
   ]
  },
  {
   "cell_type": "code",
   "execution_count": 19,
   "id": "cd8c38dd",
   "metadata": {
    "execution": {
     "iopub.execute_input": "2021-08-18T00:32:43.029948Z",
     "iopub.status.busy": "2021-08-18T00:32:43.029247Z",
     "iopub.status.idle": "2021-08-18T00:32:43.128612Z",
     "shell.execute_reply": "2021-08-18T00:32:43.128063Z",
     "shell.execute_reply.started": "2021-08-17T22:38:08.316851Z"
    },
    "papermill": {
     "duration": 0.176945,
     "end_time": "2021-08-18T00:32:43.128804",
     "exception": false,
     "start_time": "2021-08-18T00:32:42.951859",
     "status": "completed"
    },
    "tags": []
   },
   "outputs": [
    {
     "data": {
      "text/plain": [
       "<AxesSubplot:xlabel='TMAX'>"
      ]
     },
     "execution_count": 19,
     "metadata": {},
     "output_type": "execute_result"
    },
    {
     "data": {
      "image/png": "[encoded data removed]",
      "text/plain": [
       "<Figure size 432x288 with 1 Axes>"
      ]
     },
     "metadata": {
      "needs_background": "light"
     },
     "output_type": "display_data"
    }
   ],
   "source": [
    "sns.boxplot(x=dt.TMAX)"
   ]
  },
  {
   "cell_type": "code",
   "execution_count": 20,
   "id": "af70011d",
   "metadata": {
    "execution": {
     "iopub.execute_input": "2021-08-18T00:32:43.254543Z",
     "iopub.status.busy": "2021-08-18T00:32:43.235410Z",
     "iopub.status.idle": "2021-08-18T00:32:43.927238Z",
     "shell.execute_reply": "2021-08-18T00:32:43.926699Z",
     "shell.execute_reply.started": "2021-08-17T22:38:29.156354Z"
    },
    "papermill": {
     "duration": 0.748059,
     "end_time": "2021-08-18T00:32:43.927399",
     "exception": false,
     "start_time": "2021-08-18T00:32:43.179340",
     "status": "completed"
    },
    "tags": []
   },
   "outputs": [
    {
     "data": {
      "text/plain": [
       "<AxesSubplot:xlabel='TMAX', ylabel='Count'>"
      ]
     },
     "execution_count": 20,
     "metadata": {},
     "output_type": "execute_result"
    },
    {
     "data": {
      "image/png": "[encoded data removed]",
      "text/plain": [
       "<Figure size 432x288 with 1 Axes>"
      ]
     },
     "metadata": {
      "needs_background": "light"
     },
     "output_type": "display_data"
    }
   ],
   "source": [
    "sns.histplot(data=dt , x=dt.TMAX, kde=True)"
   ]
  },
  {
   "cell_type": "code",
   "execution_count": 21,
   "id": "fd67f457",
   "metadata": {
    "execution": {
     "iopub.execute_input": "2021-08-18T00:32:44.037784Z",
     "iopub.status.busy": "2021-08-18T00:32:44.036205Z",
     "iopub.status.idle": "2021-08-18T00:32:44.673785Z",
     "shell.execute_reply": "2021-08-18T00:32:44.674274Z",
     "shell.execute_reply.started": "2021-08-17T22:38:45.866414Z"
    },
    "papermill": {
     "duration": 0.695622,
     "end_time": "2021-08-18T00:32:44.674455",
     "exception": false,
     "start_time": "2021-08-18T00:32:43.978833",
     "status": "completed"
    },
    "tags": []
   },
   "outputs": [
    {
     "data": {
      "text/plain": [
       "<AxesSubplot:xlabel='TMAX', ylabel='Count'>"
      ]
     },
     "execution_count": 21,
     "metadata": {},
     "output_type": "execute_result"
    },
    {
     "data": {
      "image/png": "[encoded data removed]",
      "text/plain": [
       "<Figure size 432x288 with 1 Axes>"
      ]
     },
     "metadata": {
      "needs_background": "light"
     },
     "output_type": "display_data"
    }
   ],
   "source": [
    "sns.histplot(data=dt , x=dt.TMAX, hue=dt.RAIN)"
   ]
  },
  {
   "cell_type": "code",
   "execution_count": 22,
   "id": "d8891e49",
   "metadata": {
    "execution": {
     "iopub.execute_input": "2021-08-18T00:32:44.786324Z",
     "iopub.status.busy": "2021-08-18T00:32:44.785634Z",
     "iopub.status.idle": "2021-08-18T00:32:45.170980Z",
     "shell.execute_reply": "2021-08-18T00:32:45.170397Z",
     "shell.execute_reply.started": "2021-08-17T22:40:41.295543Z"
    },
    "papermill": {
     "duration": 0.444223,
     "end_time": "2021-08-18T00:32:45.171131",
     "exception": false,
     "start_time": "2021-08-18T00:32:44.726908",
     "status": "completed"
    },
    "tags": []
   },
   "outputs": [
    {
     "data": {
      "text/plain": [
       "<AxesSubplot:xlabel='TMIN', ylabel='Density'>"
      ]
     },
     "execution_count": 22,
     "metadata": {},
     "output_type": "execute_result"
    },
    {
     "data": {
      "image/png": "[encoded data removed]",
      "text/plain": [
       "<Figure size 432x288 with 1 Axes>"
      ]
     },
     "metadata": {
      "needs_background": "light"
     },
     "output_type": "display_data"
    }
   ],
   "source": [
    "sns.kdeplot(data=dt , x=dt.TMIN)"
   ]
  },
  {
   "cell_type": "code",
   "execution_count": 23,
   "id": "88e293a4",
   "metadata": {
    "execution": {
     "iopub.execute_input": "2021-08-18T00:32:45.289569Z",
     "iopub.status.busy": "2021-08-18T00:32:45.286505Z",
     "iopub.status.idle": "2021-08-18T00:32:45.636817Z",
     "shell.execute_reply": "2021-08-18T00:32:45.636133Z",
     "shell.execute_reply.started": "2021-08-17T22:40:52.98357Z"
    },
    "papermill": {
     "duration": 0.41228,
     "end_time": "2021-08-18T00:32:45.636964",
     "exception": false,
     "start_time": "2021-08-18T00:32:45.224684",
     "status": "completed"
    },
    "tags": []
   },
   "outputs": [
    {
     "data": {
      "text/plain": [
       "<AxesSubplot:xlabel='TMAX', ylabel='Density'>"
      ]
     },
     "execution_count": 23,
     "metadata": {},
     "output_type": "execute_result"
    },
    {
     "data": {
      "image/png": "[encoded data removed]",
      "text/plain": [
       "<Figure size 432x288 with 1 Axes>"
      ]
     },
     "metadata": {
      "needs_background": "light"
     },
     "output_type": "display_data"
    }
   ],
   "source": [
    "sns.kdeplot(data=dt , x=dt.TMAX)"
   ]
  },
  {
   "cell_type": "code",
   "execution_count": 24,
   "id": "35f62a73",
   "metadata": {
    "execution": {
     "iopub.execute_input": "2021-08-18T00:32:45.754052Z",
     "iopub.status.busy": "2021-08-18T00:32:45.752134Z",
     "iopub.status.idle": "2021-08-18T00:32:46.226159Z",
     "shell.execute_reply": "2021-08-18T00:32:46.225555Z",
     "shell.execute_reply.started": "2021-08-17T22:41:07.898083Z"
    },
    "papermill": {
     "duration": 0.534438,
     "end_time": "2021-08-18T00:32:46.226314",
     "exception": false,
     "start_time": "2021-08-18T00:32:45.691876",
     "status": "completed"
    },
    "tags": []
   },
   "outputs": [
    {
     "data": {
      "text/plain": [
       "<AxesSubplot:xlabel='PRCP', ylabel='Density'>"
      ]
     },
     "execution_count": 24,
     "metadata": {},
     "output_type": "execute_result"
    },
    {
     "data": {
      "image/png": "[encoded data removed]",
      "text/plain": [
       "<Figure size 432x288 with 1 Axes>"
      ]
     },
     "metadata": {
      "needs_background": "light"
     },
     "output_type": "display_data"
    }
   ],
   "source": [
    "sns.kdeplot(data=dt , x=dt.PRCP)"
   ]
  },
  {
   "cell_type": "code",
   "execution_count": 25,
   "id": "b3530919",
   "metadata": {
    "execution": {
     "iopub.execute_input": "2021-08-18T00:32:46.345316Z",
     "iopub.status.busy": "2021-08-18T00:32:46.343746Z",
     "iopub.status.idle": "2021-08-18T00:32:46.819919Z",
     "shell.execute_reply": "2021-08-18T00:32:46.819349Z",
     "shell.execute_reply.started": "2021-08-17T22:41:19.926755Z"
    },
    "papermill": {
     "duration": 0.538161,
     "end_time": "2021-08-18T00:32:46.820069",
     "exception": false,
     "start_time": "2021-08-18T00:32:46.281908",
     "status": "completed"
    },
    "tags": []
   },
   "outputs": [
    {
     "data": {
      "text/plain": [
       "<AxesSubplot:xlabel='TMAX', ylabel='Density'>"
      ]
     },
     "execution_count": 25,
     "metadata": {},
     "output_type": "execute_result"
    },
    {
     "data": {
      "image/png": "[encoded data removed]",
      "text/plain": [
       "<Figure size 432x288 with 1 Axes>"
      ]
     },
     "metadata": {
      "needs_background": "light"
     },
     "output_type": "display_data"
    }
   ],
   "source": [
    "sns.kdeplot(data=dt , x=dt.TMAX , hue=dt.RAIN , multiple=\"stack\")"
   ]
  },
  {
   "cell_type": "code",
   "execution_count": 26,
   "id": "210f47c3",
   "metadata": {
    "execution": {
     "iopub.execute_input": "2021-08-18T00:32:46.974963Z",
     "iopub.status.busy": "2021-08-18T00:32:46.965359Z",
     "iopub.status.idle": "2021-08-18T00:32:47.857906Z",
     "shell.execute_reply": "2021-08-18T00:32:47.858446Z",
     "shell.execute_reply.started": "2021-08-17T22:41:33.67392Z"
    },
    "papermill": {
     "duration": 0.978155,
     "end_time": "2021-08-18T00:32:47.858621",
     "exception": false,
     "start_time": "2021-08-18T00:32:46.880466",
     "status": "completed"
    },
    "tags": []
   },
   "outputs": [
    {
     "data": {
      "text/plain": [
       "<seaborn.axisgrid.JointGrid at 0x7f18b7726850>"
      ]
     },
     "execution_count": 26,
     "metadata": {},
     "output_type": "execute_result"
    },
    {
     "data": {
      "image/png": "[encoded data removed]",
      "text/plain": [
       "<Figure size 432x432 with 3 Axes>"
      ]
     },
     "metadata": {
      "needs_background": "light"
     },
     "output_type": "display_data"
    }
   ],
   "source": [
    "sns.jointplot(data=dt , x=dt.TMIN , y=dt.TMAX)"
   ]
  },
  {
   "cell_type": "code",
   "execution_count": 27,
   "id": "4208f29a",
   "metadata": {
    "execution": {
     "iopub.execute_input": "2021-08-18T00:32:48.031200Z",
     "iopub.status.busy": "2021-08-18T00:32:48.030119Z",
     "iopub.status.idle": "2021-08-18T00:32:48.495704Z",
     "shell.execute_reply": "2021-08-18T00:32:48.496190Z",
     "shell.execute_reply.started": "2021-08-17T22:41:47.05872Z"
    },
    "papermill": {
     "duration": 0.55787,
     "end_time": "2021-08-18T00:32:48.496371",
     "exception": false,
     "start_time": "2021-08-18T00:32:47.938501",
     "status": "completed"
    },
    "tags": []
   },
   "outputs": [
    {
     "data": {
      "text/plain": [
       "<seaborn.axisgrid.JointGrid at 0x7f18b744e410>"
      ]
     },
     "execution_count": 27,
     "metadata": {},
     "output_type": "execute_result"
    },
    {
     "data": {
      "image/png": "[encoded data removed]",
      "text/plain": [
       "<Figure size 432x432 with 3 Axes>"
      ]
     },
     "metadata": {
      "needs_background": "light"
     },
     "output_type": "display_data"
    }
   ],
   "source": [
    "sns.jointplot(data=dt , x=dt.head(50).PRCP , y=dt.head(50).TMAX)"
   ]
  },
  {
   "cell_type": "code",
   "execution_count": 28,
   "id": "35788d9f",
   "metadata": {
    "execution": {
     "iopub.execute_input": "2021-08-18T00:32:48.642634Z",
     "iopub.status.busy": "2021-08-18T00:32:48.641975Z",
     "iopub.status.idle": "2021-08-18T00:32:49.150104Z",
     "shell.execute_reply": "2021-08-18T00:32:49.149389Z",
     "shell.execute_reply.started": "2021-08-17T22:42:09.553066Z"
    },
    "papermill": {
     "duration": 0.593726,
     "end_time": "2021-08-18T00:32:49.150252",
     "exception": false,
     "start_time": "2021-08-18T00:32:48.556526",
     "status": "completed"
    },
    "tags": []
   },
   "outputs": [
    {
     "data": {
      "text/plain": [
       "<seaborn.axisgrid.JointGrid at 0x7f18b732c6d0>"
      ]
     },
     "execution_count": 28,
     "metadata": {},
     "output_type": "execute_result"
    },
    {
     "data": {
      "image/png": "[encoded data removed]",
      "text/plain": [
       "<Figure size 432x432 with 3 Axes>"
      ]
     },
     "metadata": {
      "needs_background": "light"
     },
     "output_type": "display_data"
    }
   ],
   "source": [
    "sns.jointplot(data=dt , x=dt.head(50).PRCP , y=dt.head(50).TMIN)"
   ]
  },
  {
   "cell_type": "code",
   "execution_count": 29,
   "id": "0000acbc",
   "metadata": {
    "execution": {
     "iopub.execute_input": "2021-08-18T00:32:49.306202Z",
     "iopub.status.busy": "2021-08-18T00:32:49.305469Z",
     "iopub.status.idle": "2021-08-18T00:32:49.590926Z",
     "shell.execute_reply": "2021-08-18T00:32:49.590251Z",
     "shell.execute_reply.started": "2021-08-17T22:42:22.232291Z"
    },
    "papermill": {
     "duration": 0.379685,
     "end_time": "2021-08-18T00:32:49.591070",
     "exception": false,
     "start_time": "2021-08-18T00:32:49.211385",
     "status": "completed"
    },
    "tags": []
   },
   "outputs": [
    {
     "data": {
      "text/plain": [
       "<AxesSubplot:xlabel='TMIN', ylabel='TMAX'>"
      ]
     },
     "execution_count": 29,
     "metadata": {},
     "output_type": "execute_result"
    },
    {
     "data": {
      "image/png": "[encoded data removed]",
      "text/plain": [
       "<Figure size 432x288 with 1 Axes>"
      ]
     },
     "metadata": {
      "needs_background": "light"
     },
     "output_type": "display_data"
    }
   ],
   "source": [
    "sns.regplot(x=dt.head(150).TMIN , y=dt.head(150).TMAX , data=dt)"
   ]
  },
  {
   "cell_type": "code",
   "execution_count": 30,
   "id": "aed758c3",
   "metadata": {
    "execution": {
     "iopub.execute_input": "2021-08-18T00:32:49.742835Z",
     "iopub.status.busy": "2021-08-18T00:32:49.740409Z",
     "iopub.status.idle": "2021-08-18T00:32:50.064320Z",
     "shell.execute_reply": "2021-08-18T00:32:50.063722Z",
     "shell.execute_reply.started": "2021-08-17T22:42:35.754065Z"
    },
    "papermill": {
     "duration": 0.408119,
     "end_time": "2021-08-18T00:32:50.064476",
     "exception": false,
     "start_time": "2021-08-18T00:32:49.656357",
     "status": "completed"
    },
    "tags": []
   },
   "outputs": [
    {
     "data": {
      "text/plain": [
       "<AxesSubplot:xlabel='TMIN', ylabel='PRCP'>"
      ]
     },
     "execution_count": 30,
     "metadata": {},
     "output_type": "execute_result"
    },
    {
     "data": {
      "image/png": "[encoded data removed]",
      "text/plain": [
       "<Figure size 432x288 with 1 Axes>"
      ]
     },
     "metadata": {
      "needs_background": "light"
     },
     "output_type": "display_data"
    }
   ],
   "source": [
    "sns.regplot(x=dt.head(200).TMIN , y=dt.head(200).PRCP , data=dt)"
   ]
  },
  {
   "cell_type": "code",
   "execution_count": 31,
   "id": "29e8ac48",
   "metadata": {
    "execution": {
     "iopub.execute_input": "2021-08-18T00:32:50.219131Z",
     "iopub.status.busy": "2021-08-18T00:32:50.218067Z",
     "iopub.status.idle": "2021-08-18T00:32:50.489531Z",
     "shell.execute_reply": "2021-08-18T00:32:50.488747Z",
     "shell.execute_reply.started": "2021-08-17T22:42:48.668026Z"
    },
    "papermill": {
     "duration": 0.358132,
     "end_time": "2021-08-18T00:32:50.489703",
     "exception": false,
     "start_time": "2021-08-18T00:32:50.131571",
     "status": "completed"
    },
    "tags": []
   },
   "outputs": [
    {
     "data": {
      "text/plain": [
       "<AxesSubplot:xlabel='TMAX', ylabel='PRCP'>"
      ]
     },
     "execution_count": 31,
     "metadata": {},
     "output_type": "execute_result"
    },
    {
     "data": {
      "image/png": "[encoded data removed]",
      "text/plain": [
       "<Figure size 432x288 with 1 Axes>"
      ]
     },
     "metadata": {
      "needs_background": "light"
     },
     "output_type": "display_data"
    }
   ],
   "source": [
    "sns.regplot(x=dt.head(200).TMAX , y=dt.head(200).PRCP , data=dt)"
   ]
  },
  {
   "cell_type": "code",
   "execution_count": 32,
   "id": "3abb9427",
   "metadata": {
    "execution": {
     "iopub.execute_input": "2021-08-18T00:32:50.645359Z",
     "iopub.status.busy": "2021-08-18T00:32:50.644278Z",
     "iopub.status.idle": "2021-08-18T00:32:50.786285Z",
     "shell.execute_reply": "2021-08-18T00:32:50.785515Z",
     "shell.execute_reply.started": "2021-08-17T22:44:04.072422Z"
    },
    "papermill": {
     "duration": 0.226452,
     "end_time": "2021-08-18T00:32:50.786466",
     "exception": false,
     "start_time": "2021-08-18T00:32:50.560014",
     "status": "completed"
    },
    "tags": []
   },
   "outputs": [
    {
     "data": {
      "text/plain": [
       "<AxesSubplot:xlabel='RAIN', ylabel='count'>"
      ]
     },
     "execution_count": 32,
     "metadata": {},
     "output_type": "execute_result"
    },
    {
     "data": {
      "image/png": "[encoded data removed]",
      "text/plain": [
       "<Figure size 432x288 with 1 Axes>"
      ]
     },
     "metadata": {
      "needs_background": "light"
     },
     "output_type": "display_data"
    }
   ],
   "source": [
    "sns.countplot(x=dt.RAIN, data=dt)"
   ]
  },
  {
   "cell_type": "code",
   "execution_count": 33,
   "id": "3e934b11",
   "metadata": {
    "execution": {
     "iopub.execute_input": "2021-08-18T00:32:50.940223Z",
     "iopub.status.busy": "2021-08-18T00:32:50.937020Z",
     "iopub.status.idle": "2021-08-18T00:32:51.526675Z",
     "shell.execute_reply": "2021-08-18T00:32:51.525510Z",
     "shell.execute_reply.started": "2021-08-17T22:44:37.277831Z"
    },
    "papermill": {
     "duration": 0.671661,
     "end_time": "2021-08-18T00:32:51.526942",
     "exception": false,
     "start_time": "2021-08-18T00:32:50.855281",
     "status": "completed"
    },
    "tags": []
   },
   "outputs": [
    {
     "name": "stderr",
     "output_type": "stream",
     "text": [
      "/opt/conda/lib/python3.7/site-packages/ipykernel_launcher.py:1: SettingWithCopyWarning: \n",
      "A value is trying to be set on a copy of a slice from a DataFrame.\n",
      "Try using .loc[row_indexer,col_indexer] = value instead\n",
      "\n",
      "See the caveats in the documentation: https://pandas.pydata.org/pandas-docs/stable/user_guide/indexing.html#returning-a-view-versus-a-copy\n",
      "  \"\"\"Entry point for launching an IPython kernel.\n",
      "/opt/conda/lib/python3.7/site-packages/ipykernel_launcher.py:2: SettingWithCopyWarning: \n",
      "A value is trying to be set on a copy of a slice from a DataFrame.\n",
      "Try using .loc[row_indexer,col_indexer] = value instead\n",
      "\n",
      "See the caveats in the documentation: https://pandas.pydata.org/pandas-docs/stable/user_guide/indexing.html#returning-a-view-versus-a-copy\n",
      "  \n",
      "/opt/conda/lib/python3.7/site-packages/ipykernel_launcher.py:3: SettingWithCopyWarning: \n",
      "A value is trying to be set on a copy of a slice from a DataFrame.\n",
      "Try using .loc[row_indexer,col_indexer] = value instead\n",
      "\n",
      "See the caveats in the documentation: https://pandas.pydata.org/pandas-docs/stable/user_guide/indexing.html#returning-a-view-versus-a-copy\n",
      "  This is separate from the ipykernel package so we can avoid doing imports until\n",
      "/opt/conda/lib/python3.7/site-packages/ipykernel_launcher.py:4: SettingWithCopyWarning: \n",
      "A value is trying to be set on a copy of a slice from a DataFrame.\n",
      "Try using .loc[row_indexer,col_indexer] = value instead\n",
      "\n",
      "See the caveats in the documentation: https://pandas.pydata.org/pandas-docs/stable/user_guide/indexing.html#returning-a-view-versus-a-copy\n",
      "  after removing the cwd from sys.path.\n"
     ]
    }
   ],
   "source": [
    "dt[\"DATE\"] = pd.to_datetime(dt[\"DATE\"])\n",
    "dt[\"YEAR\"] = dt[\"DATE\"].apply(lambda x:x.year)\n",
    "dt[\"MONTH\"] = dt[\"DATE\"].apply(lambda x:x.month)\n",
    "dt[\"DAY\"] = dt[\"DATE\"].apply(lambda x:x.day)"
   ]
  },
  {
   "cell_type": "code",
   "execution_count": 34,
   "id": "acfa5176",
   "metadata": {
    "execution": {
     "iopub.execute_input": "2021-08-18T00:32:51.667975Z",
     "iopub.status.busy": "2021-08-18T00:32:51.667303Z",
     "iopub.status.idle": "2021-08-18T00:32:51.684645Z",
     "shell.execute_reply": "2021-08-18T00:32:51.685169Z",
     "shell.execute_reply.started": "2021-08-17T22:45:07.591855Z"
    },
    "papermill": {
     "duration": 0.089431,
     "end_time": "2021-08-18T00:32:51.685358",
     "exception": false,
     "start_time": "2021-08-18T00:32:51.595927",
     "status": "completed"
    },
    "tags": []
   },
   "outputs": [
    {
     "data": {
      "text/html": [
       "<div>\n",
       "<style scoped>\n",
       "    .dataframe tbody tr th:only-of-type {\n",
       "        vertical-align: middle;\n",
       "    }\n",
       "\n",
       "    .dataframe tbody tr th {\n",
       "        vertical-align: top;\n",
       "    }\n",
       "\n",
       "    .dataframe thead th {\n",
       "        text-align: right;\n",
       "    }\n",
       "</style>\n",
       "<table border=\"1\" class=\"dataframe\">\n",
       "  <thead>\n",
       "    <tr style=\"text-align: right;\">\n",
       "      <th></th>\n",
       "      <th>PRCP</th>\n",
       "      <th>TMAX</th>\n",
       "      <th>TMIN</th>\n",
       "      <th>RAIN</th>\n",
       "      <th>YEAR</th>\n",
       "      <th>MONTH</th>\n",
       "      <th>DAY</th>\n",
       "    </tr>\n",
       "  </thead>\n",
       "  <tbody>\n",
       "    <tr>\n",
       "      <th>0</th>\n",
       "      <td>0.47</td>\n",
       "      <td>51</td>\n",
       "      <td>42</td>\n",
       "      <td>1</td>\n",
       "      <td>1948</td>\n",
       "      <td>1</td>\n",
       "      <td>1</td>\n",
       "    </tr>\n",
       "    <tr>\n",
       "      <th>1</th>\n",
       "      <td>0.59</td>\n",
       "      <td>45</td>\n",
       "      <td>36</td>\n",
       "      <td>1</td>\n",
       "      <td>1948</td>\n",
       "      <td>1</td>\n",
       "      <td>2</td>\n",
       "    </tr>\n",
       "    <tr>\n",
       "      <th>2</th>\n",
       "      <td>0.42</td>\n",
       "      <td>45</td>\n",
       "      <td>35</td>\n",
       "      <td>1</td>\n",
       "      <td>1948</td>\n",
       "      <td>1</td>\n",
       "      <td>3</td>\n",
       "    </tr>\n",
       "    <tr>\n",
       "      <th>3</th>\n",
       "      <td>0.31</td>\n",
       "      <td>45</td>\n",
       "      <td>34</td>\n",
       "      <td>1</td>\n",
       "      <td>1948</td>\n",
       "      <td>1</td>\n",
       "      <td>4</td>\n",
       "    </tr>\n",
       "    <tr>\n",
       "      <th>4</th>\n",
       "      <td>0.17</td>\n",
       "      <td>45</td>\n",
       "      <td>32</td>\n",
       "      <td>1</td>\n",
       "      <td>1948</td>\n",
       "      <td>1</td>\n",
       "      <td>5</td>\n",
       "    </tr>\n",
       "    <tr>\n",
       "      <th>...</th>\n",
       "      <td>...</td>\n",
       "      <td>...</td>\n",
       "      <td>...</td>\n",
       "      <td>...</td>\n",
       "      <td>...</td>\n",
       "      <td>...</td>\n",
       "      <td>...</td>\n",
       "    </tr>\n",
       "    <tr>\n",
       "      <th>25546</th>\n",
       "      <td>0.00</td>\n",
       "      <td>49</td>\n",
       "      <td>34</td>\n",
       "      <td>0</td>\n",
       "      <td>2017</td>\n",
       "      <td>12</td>\n",
       "      <td>10</td>\n",
       "    </tr>\n",
       "    <tr>\n",
       "      <th>25547</th>\n",
       "      <td>0.00</td>\n",
       "      <td>49</td>\n",
       "      <td>29</td>\n",
       "      <td>0</td>\n",
       "      <td>2017</td>\n",
       "      <td>12</td>\n",
       "      <td>11</td>\n",
       "    </tr>\n",
       "    <tr>\n",
       "      <th>25548</th>\n",
       "      <td>0.00</td>\n",
       "      <td>46</td>\n",
       "      <td>32</td>\n",
       "      <td>0</td>\n",
       "      <td>2017</td>\n",
       "      <td>12</td>\n",
       "      <td>12</td>\n",
       "    </tr>\n",
       "    <tr>\n",
       "      <th>25549</th>\n",
       "      <td>0.00</td>\n",
       "      <td>48</td>\n",
       "      <td>34</td>\n",
       "      <td>0</td>\n",
       "      <td>2017</td>\n",
       "      <td>12</td>\n",
       "      <td>13</td>\n",
       "    </tr>\n",
       "    <tr>\n",
       "      <th>25550</th>\n",
       "      <td>0.00</td>\n",
       "      <td>50</td>\n",
       "      <td>36</td>\n",
       "      <td>0</td>\n",
       "      <td>2017</td>\n",
       "      <td>12</td>\n",
       "      <td>14</td>\n",
       "    </tr>\n",
       "  </tbody>\n",
       "</table>\n",
       "<p>25548 rows × 7 columns</p>\n",
       "</div>"
      ],
      "text/plain": [
       "       PRCP  TMAX  TMIN  RAIN  YEAR  MONTH  DAY\n",
       "0      0.47    51    42     1  1948      1    1\n",
       "1      0.59    45    36     1  1948      1    2\n",
       "2      0.42    45    35     1  1948      1    3\n",
       "3      0.31    45    34     1  1948      1    4\n",
       "4      0.17    45    32     1  1948      1    5\n",
       "...     ...   ...   ...   ...   ...    ...  ...\n",
       "25546  0.00    49    34     0  2017     12   10\n",
       "25547  0.00    49    29     0  2017     12   11\n",
       "25548  0.00    46    32     0  2017     12   12\n",
       "25549  0.00    48    34     0  2017     12   13\n",
       "25550  0.00    50    36     0  2017     12   14\n",
       "\n",
       "[25548 rows x 7 columns]"
      ]
     },
     "execution_count": 34,
     "metadata": {},
     "output_type": "execute_result"
    }
   ],
   "source": [
    "dtf = dt.drop(\"DATE\" , axis=1)\n",
    "dtf"
   ]
  },
  {
   "cell_type": "code",
   "execution_count": 35,
   "id": "f8a3df82",
   "metadata": {
    "execution": {
     "iopub.execute_input": "2021-08-18T00:32:51.823968Z",
     "iopub.status.busy": "2021-08-18T00:32:51.823247Z",
     "iopub.status.idle": "2021-08-18T00:32:52.193719Z",
     "shell.execute_reply": "2021-08-18T00:32:52.193113Z",
     "shell.execute_reply.started": "2021-08-17T22:48:03.17691Z"
    },
    "papermill": {
     "duration": 0.440618,
     "end_time": "2021-08-18T00:32:52.193876",
     "exception": false,
     "start_time": "2021-08-18T00:32:51.753258",
     "status": "completed"
    },
    "tags": []
   },
   "outputs": [
    {
     "data": {
      "text/html": [
       "<div>\n",
       "<style scoped>\n",
       "    .dataframe tbody tr th:only-of-type {\n",
       "        vertical-align: middle;\n",
       "    }\n",
       "\n",
       "    .dataframe tbody tr th {\n",
       "        vertical-align: top;\n",
       "    }\n",
       "\n",
       "    .dataframe thead th {\n",
       "        text-align: right;\n",
       "    }\n",
       "</style>\n",
       "<table border=\"1\" class=\"dataframe\">\n",
       "  <thead>\n",
       "    <tr style=\"text-align: right;\">\n",
       "      <th></th>\n",
       "      <th>PRCP</th>\n",
       "      <th>TMAX</th>\n",
       "      <th>TMIN</th>\n",
       "      <th>RAIN</th>\n",
       "      <th>YEAR</th>\n",
       "      <th>MONTH</th>\n",
       "      <th>DAY</th>\n",
       "    </tr>\n",
       "  </thead>\n",
       "  <tbody>\n",
       "    <tr>\n",
       "      <th>0</th>\n",
       "      <td>0.47</td>\n",
       "      <td>51</td>\n",
       "      <td>42</td>\n",
       "      <td>1</td>\n",
       "      <td>1948</td>\n",
       "      <td>1</td>\n",
       "      <td>1</td>\n",
       "    </tr>\n",
       "    <tr>\n",
       "      <th>1</th>\n",
       "      <td>0.59</td>\n",
       "      <td>45</td>\n",
       "      <td>36</td>\n",
       "      <td>1</td>\n",
       "      <td>1948</td>\n",
       "      <td>1</td>\n",
       "      <td>2</td>\n",
       "    </tr>\n",
       "    <tr>\n",
       "      <th>2</th>\n",
       "      <td>0.42</td>\n",
       "      <td>45</td>\n",
       "      <td>35</td>\n",
       "      <td>1</td>\n",
       "      <td>1948</td>\n",
       "      <td>1</td>\n",
       "      <td>3</td>\n",
       "    </tr>\n",
       "    <tr>\n",
       "      <th>3</th>\n",
       "      <td>0.31</td>\n",
       "      <td>45</td>\n",
       "      <td>34</td>\n",
       "      <td>1</td>\n",
       "      <td>1948</td>\n",
       "      <td>1</td>\n",
       "      <td>4</td>\n",
       "    </tr>\n",
       "    <tr>\n",
       "      <th>4</th>\n",
       "      <td>0.17</td>\n",
       "      <td>45</td>\n",
       "      <td>32</td>\n",
       "      <td>1</td>\n",
       "      <td>1948</td>\n",
       "      <td>1</td>\n",
       "      <td>5</td>\n",
       "    </tr>\n",
       "    <tr>\n",
       "      <th>...</th>\n",
       "      <td>...</td>\n",
       "      <td>...</td>\n",
       "      <td>...</td>\n",
       "      <td>...</td>\n",
       "      <td>...</td>\n",
       "      <td>...</td>\n",
       "      <td>...</td>\n",
       "    </tr>\n",
       "    <tr>\n",
       "      <th>25546</th>\n",
       "      <td>0.00</td>\n",
       "      <td>49</td>\n",
       "      <td>34</td>\n",
       "      <td>0</td>\n",
       "      <td>2017</td>\n",
       "      <td>12</td>\n",
       "      <td>10</td>\n",
       "    </tr>\n",
       "    <tr>\n",
       "      <th>25547</th>\n",
       "      <td>0.00</td>\n",
       "      <td>49</td>\n",
       "      <td>29</td>\n",
       "      <td>0</td>\n",
       "      <td>2017</td>\n",
       "      <td>12</td>\n",
       "      <td>11</td>\n",
       "    </tr>\n",
       "    <tr>\n",
       "      <th>25548</th>\n",
       "      <td>0.00</td>\n",
       "      <td>46</td>\n",
       "      <td>32</td>\n",
       "      <td>0</td>\n",
       "      <td>2017</td>\n",
       "      <td>12</td>\n",
       "      <td>12</td>\n",
       "    </tr>\n",
       "    <tr>\n",
       "      <th>25549</th>\n",
       "      <td>0.00</td>\n",
       "      <td>48</td>\n",
       "      <td>34</td>\n",
       "      <td>0</td>\n",
       "      <td>2017</td>\n",
       "      <td>12</td>\n",
       "      <td>13</td>\n",
       "    </tr>\n",
       "    <tr>\n",
       "      <th>25550</th>\n",
       "      <td>0.00</td>\n",
       "      <td>50</td>\n",
       "      <td>36</td>\n",
       "      <td>0</td>\n",
       "      <td>2017</td>\n",
       "      <td>12</td>\n",
       "      <td>14</td>\n",
       "    </tr>\n",
       "  </tbody>\n",
       "</table>\n",
       "<p>25491 rows × 7 columns</p>\n",
       "</div>"
      ],
      "text/plain": [
       "       PRCP  TMAX  TMIN  RAIN  YEAR  MONTH  DAY\n",
       "0      0.47    51    42     1  1948      1    1\n",
       "1      0.59    45    36     1  1948      1    2\n",
       "2      0.42    45    35     1  1948      1    3\n",
       "3      0.31    45    34     1  1948      1    4\n",
       "4      0.17    45    32     1  1948      1    5\n",
       "...     ...   ...   ...   ...   ...    ...  ...\n",
       "25546  0.00    49    34     0  2017     12   10\n",
       "25547  0.00    49    29     0  2017     12   11\n",
       "25548  0.00    46    32     0  2017     12   12\n",
       "25549  0.00    48    34     0  2017     12   13\n",
       "25550  0.00    50    36     0  2017     12   14\n",
       "\n",
       "[25491 rows x 7 columns]"
      ]
     },
     "execution_count": 35,
     "metadata": {},
     "output_type": "execute_result"
    }
   ],
   "source": [
    "clf = LocalOutlierFactor(n_neighbors=5)\n",
    "pred = clf.fit_predict(dtf)\n",
    "df = dtf[pred == 1 ]\n",
    "df"
   ]
  },
  {
   "cell_type": "code",
   "execution_count": 36,
   "id": "3f310d25",
   "metadata": {
    "execution": {
     "iopub.execute_input": "2021-08-18T00:32:52.339324Z",
     "iopub.status.busy": "2021-08-18T00:32:52.338521Z",
     "iopub.status.idle": "2021-08-18T00:32:52.340963Z",
     "shell.execute_reply": "2021-08-18T00:32:52.341437Z",
     "shell.execute_reply.started": "2021-08-17T22:48:15.762182Z"
    },
    "papermill": {
     "duration": 0.076934,
     "end_time": "2021-08-18T00:32:52.341602",
     "exception": false,
     "start_time": "2021-08-18T00:32:52.264668",
     "status": "completed"
    },
    "tags": []
   },
   "outputs": [],
   "source": [
    "y = df[\"PRCP\"]"
   ]
  },
  {
   "cell_type": "code",
   "execution_count": 37,
   "id": "322cb69e",
   "metadata": {
    "execution": {
     "iopub.execute_input": "2021-08-18T00:32:52.485755Z",
     "iopub.status.busy": "2021-08-18T00:32:52.484690Z",
     "iopub.status.idle": "2021-08-18T00:32:52.487969Z",
     "shell.execute_reply": "2021-08-18T00:32:52.487436Z",
     "shell.execute_reply.started": "2021-08-17T22:48:25.025817Z"
    },
    "papermill": {
     "duration": 0.077173,
     "end_time": "2021-08-18T00:32:52.488128",
     "exception": false,
     "start_time": "2021-08-18T00:32:52.410955",
     "status": "completed"
    },
    "tags": []
   },
   "outputs": [],
   "source": [
    "x = df.drop([\"PRCP\"] , axis=1)"
   ]
  },
  {
   "cell_type": "code",
   "execution_count": 38,
   "id": "4393ff1b",
   "metadata": {
    "execution": {
     "iopub.execute_input": "2021-08-18T00:32:52.633268Z",
     "iopub.status.busy": "2021-08-18T00:32:52.632568Z",
     "iopub.status.idle": "2021-08-18T00:32:52.635319Z",
     "shell.execute_reply": "2021-08-18T00:32:52.635804Z",
     "shell.execute_reply.started": "2021-08-17T22:48:31.746743Z"
    },
    "papermill": {
     "duration": 0.077537,
     "end_time": "2021-08-18T00:32:52.635984",
     "exception": false,
     "start_time": "2021-08-18T00:32:52.558447",
     "status": "completed"
    },
    "tags": []
   },
   "outputs": [
    {
     "data": {
      "text/plain": [
       "0    0.47\n",
       "1    0.59\n",
       "2    0.42\n",
       "3    0.31\n",
       "4    0.17\n",
       "Name: PRCP, dtype: float64"
      ]
     },
     "execution_count": 38,
     "metadata": {},
     "output_type": "execute_result"
    }
   ],
   "source": [
    "y.head(5)"
   ]
  },
  {
   "cell_type": "code",
   "execution_count": 39,
   "id": "a08108a8",
   "metadata": {
    "execution": {
     "iopub.execute_input": "2021-08-18T00:32:52.777252Z",
     "iopub.status.busy": "2021-08-18T00:32:52.776493Z",
     "iopub.status.idle": "2021-08-18T00:32:52.788068Z",
     "shell.execute_reply": "2021-08-18T00:32:52.787457Z",
     "shell.execute_reply.started": "2021-08-17T22:48:46.06212Z"
    },
    "papermill": {
     "duration": 0.084017,
     "end_time": "2021-08-18T00:32:52.788210",
     "exception": false,
     "start_time": "2021-08-18T00:32:52.704193",
     "status": "completed"
    },
    "tags": []
   },
   "outputs": [
    {
     "data": {
      "text/html": [
       "<div>\n",
       "<style scoped>\n",
       "    .dataframe tbody tr th:only-of-type {\n",
       "        vertical-align: middle;\n",
       "    }\n",
       "\n",
       "    .dataframe tbody tr th {\n",
       "        vertical-align: top;\n",
       "    }\n",
       "\n",
       "    .dataframe thead th {\n",
       "        text-align: right;\n",
       "    }\n",
       "</style>\n",
       "<table border=\"1\" class=\"dataframe\">\n",
       "  <thead>\n",
       "    <tr style=\"text-align: right;\">\n",
       "      <th></th>\n",
       "      <th>TMAX</th>\n",
       "      <th>TMIN</th>\n",
       "      <th>RAIN</th>\n",
       "      <th>YEAR</th>\n",
       "      <th>MONTH</th>\n",
       "      <th>DAY</th>\n",
       "    </tr>\n",
       "  </thead>\n",
       "  <tbody>\n",
       "    <tr>\n",
       "      <th>0</th>\n",
       "      <td>51</td>\n",
       "      <td>42</td>\n",
       "      <td>1</td>\n",
       "      <td>1948</td>\n",
       "      <td>1</td>\n",
       "      <td>1</td>\n",
       "    </tr>\n",
       "    <tr>\n",
       "      <th>1</th>\n",
       "      <td>45</td>\n",
       "      <td>36</td>\n",
       "      <td>1</td>\n",
       "      <td>1948</td>\n",
       "      <td>1</td>\n",
       "      <td>2</td>\n",
       "    </tr>\n",
       "    <tr>\n",
       "      <th>2</th>\n",
       "      <td>45</td>\n",
       "      <td>35</td>\n",
       "      <td>1</td>\n",
       "      <td>1948</td>\n",
       "      <td>1</td>\n",
       "      <td>3</td>\n",
       "    </tr>\n",
       "    <tr>\n",
       "      <th>3</th>\n",
       "      <td>45</td>\n",
       "      <td>34</td>\n",
       "      <td>1</td>\n",
       "      <td>1948</td>\n",
       "      <td>1</td>\n",
       "      <td>4</td>\n",
       "    </tr>\n",
       "    <tr>\n",
       "      <th>4</th>\n",
       "      <td>45</td>\n",
       "      <td>32</td>\n",
       "      <td>1</td>\n",
       "      <td>1948</td>\n",
       "      <td>1</td>\n",
       "      <td>5</td>\n",
       "    </tr>\n",
       "  </tbody>\n",
       "</table>\n",
       "</div>"
      ],
      "text/plain": [
       "   TMAX  TMIN  RAIN  YEAR  MONTH  DAY\n",
       "0    51    42     1  1948      1    1\n",
       "1    45    36     1  1948      1    2\n",
       "2    45    35     1  1948      1    3\n",
       "3    45    34     1  1948      1    4\n",
       "4    45    32     1  1948      1    5"
      ]
     },
     "execution_count": 39,
     "metadata": {},
     "output_type": "execute_result"
    }
   ],
   "source": [
    "x.head(5)"
   ]
  },
  {
   "cell_type": "code",
   "execution_count": 40,
   "id": "fe19c3fb",
   "metadata": {
    "execution": {
     "iopub.execute_input": "2021-08-18T00:32:52.931035Z",
     "iopub.status.busy": "2021-08-18T00:32:52.929976Z",
     "iopub.status.idle": "2021-08-18T00:32:52.954841Z",
     "shell.execute_reply": "2021-08-18T00:32:52.955333Z",
     "shell.execute_reply.started": "2021-08-17T22:49:17.641194Z"
    },
    "papermill": {
     "duration": 0.097525,
     "end_time": "2021-08-18T00:32:52.955686",
     "exception": false,
     "start_time": "2021-08-18T00:32:52.858161",
     "status": "completed"
    },
    "tags": []
   },
   "outputs": [
    {
     "data": {
      "text/html": [
       "<div>\n",
       "<style scoped>\n",
       "    .dataframe tbody tr th:only-of-type {\n",
       "        vertical-align: middle;\n",
       "    }\n",
       "\n",
       "    .dataframe tbody tr th {\n",
       "        vertical-align: top;\n",
       "    }\n",
       "\n",
       "    .dataframe thead th {\n",
       "        text-align: right;\n",
       "    }\n",
       "</style>\n",
       "<table border=\"1\" class=\"dataframe\">\n",
       "  <thead>\n",
       "    <tr style=\"text-align: right;\">\n",
       "      <th></th>\n",
       "      <th>TMAX</th>\n",
       "      <th>TMIN</th>\n",
       "      <th>RAIN</th>\n",
       "      <th>YEAR</th>\n",
       "      <th>MONTH</th>\n",
       "      <th>DAY</th>\n",
       "    </tr>\n",
       "  </thead>\n",
       "  <tbody>\n",
       "    <tr>\n",
       "      <th>0</th>\n",
       "      <td>-0.669294</td>\n",
       "      <td>-0.283027</td>\n",
       "      <td>1.158474</td>\n",
       "      <td>-1.707285</td>\n",
       "      <td>-1.600693</td>\n",
       "      <td>-1.674231</td>\n",
       "    </tr>\n",
       "    <tr>\n",
       "      <th>1</th>\n",
       "      <td>-1.140299</td>\n",
       "      <td>-0.959243</td>\n",
       "      <td>1.158474</td>\n",
       "      <td>-1.707285</td>\n",
       "      <td>-1.600693</td>\n",
       "      <td>-1.560542</td>\n",
       "    </tr>\n",
       "    <tr>\n",
       "      <th>2</th>\n",
       "      <td>-1.140299</td>\n",
       "      <td>-1.071945</td>\n",
       "      <td>1.158474</td>\n",
       "      <td>-1.707285</td>\n",
       "      <td>-1.600693</td>\n",
       "      <td>-1.446853</td>\n",
       "    </tr>\n",
       "    <tr>\n",
       "      <th>3</th>\n",
       "      <td>-1.140299</td>\n",
       "      <td>-1.184648</td>\n",
       "      <td>1.158474</td>\n",
       "      <td>-1.707285</td>\n",
       "      <td>-1.600693</td>\n",
       "      <td>-1.333165</td>\n",
       "    </tr>\n",
       "    <tr>\n",
       "      <th>4</th>\n",
       "      <td>-1.140299</td>\n",
       "      <td>-1.410053</td>\n",
       "      <td>1.158474</td>\n",
       "      <td>-1.707285</td>\n",
       "      <td>-1.600693</td>\n",
       "      <td>-1.219476</td>\n",
       "    </tr>\n",
       "    <tr>\n",
       "      <th>...</th>\n",
       "      <td>...</td>\n",
       "      <td>...</td>\n",
       "      <td>...</td>\n",
       "      <td>...</td>\n",
       "      <td>...</td>\n",
       "      <td>...</td>\n",
       "    </tr>\n",
       "    <tr>\n",
       "      <th>25486</th>\n",
       "      <td>-0.826296</td>\n",
       "      <td>-1.184648</td>\n",
       "      <td>-0.863205</td>\n",
       "      <td>1.709774</td>\n",
       "      <td>1.590008</td>\n",
       "      <td>-0.651033</td>\n",
       "    </tr>\n",
       "    <tr>\n",
       "      <th>25487</th>\n",
       "      <td>-0.826296</td>\n",
       "      <td>-1.748160</td>\n",
       "      <td>-0.863205</td>\n",
       "      <td>1.709774</td>\n",
       "      <td>1.590008</td>\n",
       "      <td>-0.537344</td>\n",
       "    </tr>\n",
       "    <tr>\n",
       "      <th>25488</th>\n",
       "      <td>-1.061798</td>\n",
       "      <td>-1.410053</td>\n",
       "      <td>-0.863205</td>\n",
       "      <td>1.709774</td>\n",
       "      <td>1.590008</td>\n",
       "      <td>-0.423655</td>\n",
       "    </tr>\n",
       "    <tr>\n",
       "      <th>25489</th>\n",
       "      <td>-0.904796</td>\n",
       "      <td>-1.184648</td>\n",
       "      <td>-0.863205</td>\n",
       "      <td>1.709774</td>\n",
       "      <td>1.590008</td>\n",
       "      <td>-0.309967</td>\n",
       "    </tr>\n",
       "    <tr>\n",
       "      <th>25490</th>\n",
       "      <td>-0.747795</td>\n",
       "      <td>-0.959243</td>\n",
       "      <td>-0.863205</td>\n",
       "      <td>1.709774</td>\n",
       "      <td>1.590008</td>\n",
       "      <td>-0.196278</td>\n",
       "    </tr>\n",
       "  </tbody>\n",
       "</table>\n",
       "<p>25491 rows × 6 columns</p>\n",
       "</div>"
      ],
      "text/plain": [
       "           TMAX      TMIN      RAIN      YEAR     MONTH       DAY\n",
       "0     -0.669294 -0.283027  1.158474 -1.707285 -1.600693 -1.674231\n",
       "1     -1.140299 -0.959243  1.158474 -1.707285 -1.600693 -1.560542\n",
       "2     -1.140299 -1.071945  1.158474 -1.707285 -1.600693 -1.446853\n",
       "3     -1.140299 -1.184648  1.158474 -1.707285 -1.600693 -1.333165\n",
       "4     -1.140299 -1.410053  1.158474 -1.707285 -1.600693 -1.219476\n",
       "...         ...       ...       ...       ...       ...       ...\n",
       "25486 -0.826296 -1.184648 -0.863205  1.709774  1.590008 -0.651033\n",
       "25487 -0.826296 -1.748160 -0.863205  1.709774  1.590008 -0.537344\n",
       "25488 -1.061798 -1.410053 -0.863205  1.709774  1.590008 -0.423655\n",
       "25489 -0.904796 -1.184648 -0.863205  1.709774  1.590008 -0.309967\n",
       "25490 -0.747795 -0.959243 -0.863205  1.709774  1.590008 -0.196278\n",
       "\n",
       "[25491 rows x 6 columns]"
      ]
     },
     "execution_count": 40,
     "metadata": {},
     "output_type": "execute_result"
    }
   ],
   "source": [
    "scaler = StandardScaler()\n",
    "x= pd.DataFrame(scaler.fit_transform(x) , columns=x.columns)\n",
    "x"
   ]
  },
  {
   "cell_type": "code",
   "execution_count": 41,
   "id": "8c95e2fe",
   "metadata": {
    "execution": {
     "iopub.execute_input": "2021-08-18T00:32:53.104002Z",
     "iopub.status.busy": "2021-08-18T00:32:53.102978Z",
     "iopub.status.idle": "2021-08-18T00:32:53.109515Z",
     "shell.execute_reply": "2021-08-18T00:32:53.109995Z",
     "shell.execute_reply.started": "2021-08-17T22:51:25.345423Z"
    },
    "papermill": {
     "duration": 0.082177,
     "end_time": "2021-08-18T00:32:53.110170",
     "exception": false,
     "start_time": "2021-08-18T00:32:53.027993",
     "status": "completed"
    },
    "tags": []
   },
   "outputs": [],
   "source": [
    "x_train,x_test,y_train,y_test= train_test_split(x,y,train_size=0.7,shuffle=True,random_state=45)"
   ]
  },
  {
   "cell_type": "code",
   "execution_count": 42,
   "id": "42246852",
   "metadata": {
    "execution": {
     "iopub.execute_input": "2021-08-18T00:32:53.253007Z",
     "iopub.status.busy": "2021-08-18T00:32:53.251907Z",
     "iopub.status.idle": "2021-08-18T00:32:53.406681Z",
     "shell.execute_reply": "2021-08-18T00:32:53.407190Z",
     "shell.execute_reply.started": "2021-08-17T22:52:20.642267Z"
    },
    "papermill": {
     "duration": 0.228065,
     "end_time": "2021-08-18T00:32:53.407355",
     "exception": false,
     "start_time": "2021-08-18T00:32:53.179290",
     "status": "completed"
    },
    "tags": []
   },
   "outputs": [
    {
     "data": {
      "text/plain": [
       "0.20675853688112072"
      ]
     },
     "execution_count": 42,
     "metadata": {},
     "output_type": "execute_result"
    }
   ],
   "source": [
    "knn_model = KNeighborsRegressor().fit(x_train , y_train)\n",
    "y_pred = knn_model.predict(x_test)\n",
    "np.sqrt(mean_squared_error(y_test,y_pred))"
   ]
  },
  {
   "cell_type": "code",
   "execution_count": 43,
   "id": "a5bc2cf9",
   "metadata": {
    "execution": {
     "iopub.execute_input": "2021-08-18T00:32:53.553452Z",
     "iopub.status.busy": "2021-08-18T00:32:53.551793Z",
     "iopub.status.idle": "2021-08-18T00:32:53.769623Z",
     "shell.execute_reply": "2021-08-18T00:32:53.769044Z",
     "shell.execute_reply.started": "2021-08-17T22:54:37.181878Z"
    },
    "papermill": {
     "duration": 0.292866,
     "end_time": "2021-08-18T00:32:53.769827",
     "exception": false,
     "start_time": "2021-08-18T00:32:53.476961",
     "status": "completed"
    },
    "tags": []
   },
   "outputs": [
    {
     "data": {
      "text/plain": [
       "0.21535066134380115"
      ]
     },
     "execution_count": 43,
     "metadata": {},
     "output_type": "execute_result"
    }
   ],
   "source": [
    "cross_val_score(knn_model , x_test , y_test , cv=10).mean()"
   ]
  },
  {
   "cell_type": "code",
   "execution_count": 44,
   "id": "cd830548",
   "metadata": {
    "execution": {
     "iopub.execute_input": "2021-08-18T00:32:53.916031Z",
     "iopub.status.busy": "2021-08-18T00:32:53.915353Z",
     "iopub.status.idle": "2021-08-18T00:33:10.829054Z",
     "shell.execute_reply": "2021-08-18T00:33:10.829542Z",
     "shell.execute_reply.started": "2021-08-17T22:54:57.544856Z"
    },
    "papermill": {
     "duration": 16.989076,
     "end_time": "2021-08-18T00:33:10.829742",
     "exception": false,
     "start_time": "2021-08-18T00:32:53.840666",
     "status": "completed"
    },
    "tags": []
   },
   "outputs": [
    {
     "name": "stderr",
     "output_type": "stream",
     "text": [
      "/opt/conda/lib/python3.7/site-packages/sklearn/utils/validation.py:70: FutureWarning: Pass kernel=linear as keyword args. From version 0.25 passing these as positional arguments will result in an error\n",
      "  FutureWarning)\n"
     ]
    },
    {
     "data": {
      "text/plain": [
       "0.2074739181391122"
      ]
     },
     "execution_count": 44,
     "metadata": {},
     "output_type": "execute_result"
    }
   ],
   "source": [
    "svr_model = SVR(\"linear\").fit(x_train , y_train)\n",
    "y_pred = svr_model.predict(x_test)\n",
    "np.sqrt(mean_squared_error(y_test,y_pred))"
   ]
  },
  {
   "cell_type": "code",
   "execution_count": 45,
   "id": "d5a2163e",
   "metadata": {
    "execution": {
     "iopub.execute_input": "2021-08-18T00:33:10.976852Z",
     "iopub.status.busy": "2021-08-18T00:33:10.976138Z",
     "iopub.status.idle": "2021-08-18T00:33:40.970633Z",
     "shell.execute_reply": "2021-08-18T00:33:40.971202Z",
     "shell.execute_reply.started": "2021-08-17T22:55:41.466614Z"
    },
    "papermill": {
     "duration": 30.070187,
     "end_time": "2021-08-18T00:33:40.971397",
     "exception": false,
     "start_time": "2021-08-18T00:33:10.901210",
     "status": "completed"
    },
    "tags": []
   },
   "outputs": [
    {
     "data": {
      "text/plain": [
       "0.22216651459836018"
      ]
     },
     "execution_count": 45,
     "metadata": {},
     "output_type": "execute_result"
    }
   ],
   "source": [
    "cross_val_score(svr_model , x_test , y_test , cv=10).mean()"
   ]
  },
  {
   "cell_type": "code",
   "execution_count": 46,
   "id": "2c8f233d",
   "metadata": {
    "execution": {
     "iopub.execute_input": "2021-08-18T00:33:41.122147Z",
     "iopub.status.busy": "2021-08-18T00:33:41.121398Z",
     "iopub.status.idle": "2021-08-18T00:33:41.175306Z",
     "shell.execute_reply": "2021-08-18T00:33:41.174192Z",
     "shell.execute_reply.started": "2021-08-17T22:56:38.331803Z"
    },
    "papermill": {
     "duration": 0.130898,
     "end_time": "2021-08-18T00:33:41.175472",
     "exception": false,
     "start_time": "2021-08-18T00:33:41.044574",
     "status": "completed"
    },
    "tags": []
   },
   "outputs": [
    {
     "data": {
      "text/plain": [
       "0.28358010830146"
      ]
     },
     "execution_count": 46,
     "metadata": {},
     "output_type": "execute_result"
    }
   ],
   "source": [
    "cart_model=DecisionTreeRegressor()\n",
    "cart_model.fit(x_train , y_train)\n",
    "y_pred = cart_model.predict(x_test)\n",
    "np.sqrt(mean_squared_error(y_test,y_pred))"
   ]
  },
  {
   "cell_type": "code",
   "execution_count": 47,
   "id": "58cd4c93",
   "metadata": {
    "execution": {
     "iopub.execute_input": "2021-08-18T00:33:41.342336Z",
     "iopub.status.busy": "2021-08-18T00:33:41.336998Z",
     "iopub.status.idle": "2021-08-18T00:33:43.986898Z",
     "shell.execute_reply": "2021-08-18T00:33:43.986385Z",
     "shell.execute_reply.started": "2021-08-17T22:57:22.075526Z"
    },
    "papermill": {
     "duration": 2.738269,
     "end_time": "2021-08-18T00:33:43.987038",
     "exception": false,
     "start_time": "2021-08-18T00:33:41.248769",
     "status": "completed"
    },
    "tags": []
   },
   "outputs": [
    {
     "data": {
      "text/plain": [
       "0.20293704605455698"
      ]
     },
     "execution_count": 47,
     "metadata": {},
     "output_type": "execute_result"
    }
   ],
   "source": [
    "rf_model=RandomForestRegressor()\n",
    "rf_model.fit(x_train , y_train)\n",
    "y_pred = rf_model.predict(x_test)\n",
    "np.sqrt(mean_squared_error(y_test,y_pred))"
   ]
  },
  {
   "cell_type": "code",
   "execution_count": 48,
   "id": "b2d745ff",
   "metadata": {
    "execution": {
     "iopub.execute_input": "2021-08-18T00:33:44.138546Z",
     "iopub.status.busy": "2021-08-18T00:33:44.137900Z",
     "iopub.status.idle": "2021-08-18T00:33:54.847091Z",
     "shell.execute_reply": "2021-08-18T00:33:54.846468Z",
     "shell.execute_reply.started": "2021-08-17T22:57:49.919877Z"
    },
    "papermill": {
     "duration": 10.7867,
     "end_time": "2021-08-18T00:33:54.847247",
     "exception": false,
     "start_time": "2021-08-18T00:33:44.060547",
     "status": "completed"
    },
    "tags": []
   },
   "outputs": [
    {
     "data": {
      "text/plain": [
       "0.23347483471475988"
      ]
     },
     "execution_count": 48,
     "metadata": {},
     "output_type": "execute_result"
    }
   ],
   "source": [
    "cross_val_score(rf_model , x_test , y_test , cv=10).mean()"
   ]
  },
  {
   "cell_type": "code",
   "execution_count": 49,
   "id": "38830be7",
   "metadata": {
    "execution": {
     "iopub.execute_input": "2021-08-18T00:33:54.999463Z",
     "iopub.status.busy": "2021-08-18T00:33:54.998793Z",
     "iopub.status.idle": "2021-08-18T00:33:56.184469Z",
     "shell.execute_reply": "2021-08-18T00:33:56.183937Z",
     "shell.execute_reply.started": "2021-08-17T23:01:29.681198Z"
    },
    "papermill": {
     "duration": 1.264407,
     "end_time": "2021-08-18T00:33:56.184617",
     "exception": false,
     "start_time": "2021-08-18T00:33:54.920210",
     "status": "completed"
    },
    "tags": []
   },
   "outputs": [
    {
     "data": {
      "text/plain": [
       "0.19500273487502928"
      ]
     },
     "execution_count": 49,
     "metadata": {},
     "output_type": "execute_result"
    }
   ],
   "source": [
    "gbm_model=GradientBoostingRegressor()\n",
    "gbm_model.fit(x_train , y_train)\n",
    "y_pred = gbm_model.predict(x_test)\n",
    "np.sqrt(mean_squared_error(y_test,y_pred))"
   ]
  },
  {
   "cell_type": "code",
   "execution_count": null,
   "id": "50ecb79d",
   "metadata": {
    "papermill": {
     "duration": 0.076271,
     "end_time": "2021-08-18T00:33:56.333317",
     "exception": false,
     "start_time": "2021-08-18T00:33:56.257046",
     "status": "completed"
    },
    "tags": []
   },
   "outputs": [],
   "source": []
  },
  {
   "cell_type": "code",
   "execution_count": null,
   "id": "a0a3b582",
   "metadata": {
    "papermill": {
     "duration": 0.07275,
     "end_time": "2021-08-18T00:33:56.479894",
     "exception": false,
     "start_time": "2021-08-18T00:33:56.407144",
     "status": "completed"
    },
    "tags": []
   },
   "outputs": [],
   "source": []
  }
 ],
 "metadata": {
  "kernelspec": {
   "display_name": "Python 3",
   "language": "python",
   "name": "python3"
  },
  "language_info": {
   "codemirror_mode": {
    "name": "ipython",
    "version": 3
   },
   "file_extension": ".py",
   "mimetype": "text/x-python",
   "name": "python",
   "nbconvert_exporter": "python",
   "pygments_lexer": "ipython3",
   "version": "3.7.10"
  },
  "papermill": {
   "default_parameters": {},
   "duration": 89.953286,
   "end_time": "2021-08-18T00:33:58.416869",
   "environment_variables": {},
   "exception": null,
   "input_path": "__notebook__.ipynb",
   "output_path": "__notebook__.ipynb",
   "parameters": {},
   "start_time": "2021-08-18T00:32:28.463583",
   "version": "2.3.3"
  }
 },
 "nbformat": 4,
 "nbformat_minor": 5
}
